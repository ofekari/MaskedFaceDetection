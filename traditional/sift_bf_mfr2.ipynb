{
 "cells": [
  {
   "cell_type": "code",
   "execution_count": 3,
   "id": "bc19593e",
   "metadata": {},
   "outputs": [],
   "source": [
    "# face verification with the VGGFace2 model\n",
    "from matplotlib import pyplot\n",
    "from PIL import Image\n",
    "from numpy import asarray\n",
    "from scipy.spatial.distance import cosine\n",
    "from mtcnn.mtcnn import MTCNN\n",
    "# from keras_vggface.vggface import VGGFace\n",
    "# from keras_vggface.utils import preprocess_input\n",
    "import pandas as pd\n",
    "\n",
    "# # extract a single face from a given photograph\n",
    "# def extract_face(filename, required_size=(224, 224)):\n",
    "#     # load image from file\n",
    "# #     pixels = pyplot.imread(filename)\n",
    "# #     # create the detector, using default weights\n",
    "# #     detector = MTCNN()\n",
    "# #     # detect faces in the image\n",
    "# #     results = detector.detect_faces(pixels)\n",
    "# #     # extract the bounding box from the first face\n",
    "# #     x1, y1, width, height = results[0]['box']\n",
    "# #     x2, y2 = x1 + width, y1 + height\n",
    "# #     # extract the face\n",
    "# #     face = pixels[y1:y2, x1:x2]\n",
    "#     # resize pixels to the model size\n",
    "#     image = Image.open(filename)\n",
    "#     image = image.resize(required_size)\n",
    "#     face_array = asarray(image)\n",
    "#     return face_array\n",
    "\n",
    "# def prepare_file(filenames):\n",
    "#     # extract faces\n",
    "#     faces = [extract_face(f) for f in filenames]\n",
    "#     # convert into an array of samples\n",
    "#     samples = asarray(faces, 'float32')\n",
    "#     # prepare the face for the model, e.g. center pixels\n",
    "#     return preprocess_input(samples, version=2)\n",
    "\n",
    "# model = None\n",
    "# # extract faces and calculate face embeddings for a list of photo files\n",
    "# def get_embeddings(filenames):\n",
    "#     # extract faces\n",
    "#     faces = [extract_face(f) for f in filenames]\n",
    "#     # convert into an array of samples\n",
    "#     samples = asarray(faces, 'float32')\n",
    "#     # prepare the face for the model, e.g. center pixels\n",
    "#     samples = preprocess_input(samples, version=2)\n",
    "#     # create a vggface model\n",
    "#     global model\n",
    "#     if not model:\n",
    "#         model = VGGFace(model='resnet50', include_top=False, input_shape=(224, 224, 3), pooling='avg')\n",
    "#     # perform prediction\n",
    "#     yhat = model.predict(samples)\n",
    "#     return yhat\n",
    "\n",
    "# # determine if a candidate face is a match for a known face\n",
    "# def is_match(known_embedding, candidate_embedding, thresh=0.5):\n",
    "#     # calculate distance between embeddings\n",
    "#     score = cosine(known_embedding, candidate_embedding)\n",
    "#     if score <= thresh:\n",
    "#         print('>face is a Match (%.3f <= %.3f)' % (score, thresh))\n",
    "#         return True, score\n",
    "#     else:\n",
    "#         print('>face is NOT a Match (%.3f > %.3f)' % (score, thresh))\n",
    "#         return False, score"
   ]
  },
  {
   "cell_type": "code",
   "execution_count": 4,
   "id": "554cc3e2",
   "metadata": {},
   "outputs": [],
   "source": [
    "import numpy as np\n",
    "import matplotlib.pyplot as plt\n",
    "import pathlib\n",
    "import pandas as pd"
   ]
  },
  {
   "cell_type": "code",
   "execution_count": 5,
   "id": "78dff1e9",
   "metadata": {},
   "outputs": [],
   "source": [
    "BASE_PATH = pathlib.Path('../data/mfr2')\n",
    "labels_path = BASE_PATH / 'mfr2_labels.txt'\n",
    "pairs_path = BASE_PATH / 'pairs.txt'"
   ]
  },
  {
   "cell_type": "code",
   "execution_count": 6,
   "id": "f10eb0b2",
   "metadata": {},
   "outputs": [],
   "source": [
    "labels=pd.read_csv(filepath_or_buffer=str(labels_path))\n",
    "labels=labels.apply(lambda x: x.apply(lambda y: y.strip() if type(y) == type('') else y), axis=0)\n",
    "people=labels[\"person\"].unique()\n",
    "\n",
    "def get_indexes(person, mask=True):\n",
    "    if mask:\n",
    "        mask_filter = labels[\"mask\"]!=\"no-mask\"\n",
    "    else:\n",
    "        mask_filter = labels[\"mask\"]==\"no-mask\"\n",
    "    person_filter = labels[\"person\"]==person\n",
    "    return list(labels[person_filter & mask_filter][\"index\"])\n",
    "\n",
    "total_pairs={person:list(zip(get_indexes(person,mask=True), get_indexes(person, mask=False))) for person in people}"
   ]
  },
  {
   "cell_type": "code",
   "execution_count": 7,
   "id": "4573aa2d",
   "metadata": {},
   "outputs": [],
   "source": [
    "import cv2 \n",
    "import matplotlib.pyplot as plt\n",
    "%matplotlib inline\n",
    "\n",
    "person, pairs = list(total_pairs.items())[0]\n",
    "index1, index2 = pairs[0]\n",
    "path1 = BASE_PATH / person / f'{person}_{str(index1).rjust(4, \"0\")}.png'\n",
    "path2 = BASE_PATH / person / f'{person}_{str(index2).rjust(4, \"0\")}.png'\n",
    "# read images\n",
    "img1 = cv2.imread(str(path1))  \n",
    "img2 = cv2.imread(str(path2))\n",
    "\n",
    "img1 = cv2.cvtColor(img1, cv2.COLOR_BGR2GRAY)\n",
    "img2 = cv2.cvtColor(img2, cv2.COLOR_BGR2GRAY)\n",
    "\n",
    "#sift\n",
    "sift = cv2.xfeatures2d.SIFT_create()\n",
    "\n",
    "keypoints_1, descriptors_1 = sift.detectAndCompute(img1,None)\n",
    "keypoints_2, descriptors_2 = sift.detectAndCompute(img2,None)\n",
    "\n",
    "#feature matching\n",
    "bf = cv2.BFMatcher(cv2.NORM_L1, crossCheck=True)\n",
    "matches = bf.match(descriptors_1,descriptors_2)\n",
    "\n",
    "# Apply ratio test\n",
    "# good = []\n",
    "# for m1 in matches:\n",
    "#     if m.distance :\n",
    "#         good.append([m])\n",
    "#         a=len(good)\n",
    "#         percent=(a*100)/len(keypoints_2)\n",
    "#         print(\"{} % similarity\".format(percent))\n",
    "#         if percent >= 75.00:\n",
    "#             print('Match Found')\n",
    "#         if percent < 75.00:\n",
    "#             print('Match not Found')"
   ]
  },
  {
   "cell_type": "code",
   "execution_count": 11,
   "id": "c8670d64",
   "metadata": {},
   "outputs": [
    {
     "data": {
      "text/plain": [
       "30"
      ]
     },
     "execution_count": 11,
     "metadata": {},
     "output_type": "execute_result"
    }
   ],
   "source": [
    "len(matches)"
   ]
  },
  {
   "cell_type": "code",
   "execution_count": 7,
   "id": "91f76362",
   "metadata": {
    "scrolled": true
   },
   "outputs": [],
   "source": [
    "results = []\n",
    "\n",
    "# positive test\n",
    "for person, pairs in total_pairs.items():\n",
    "    for index1, index2 in pairs:\n",
    "        path1 = BASE_PATH / person / f'{person}_{str(index1).rjust(4, \"0\")}.png'\n",
    "        path2 = BASE_PATH / person / f'{person}_{str(index2).rjust(4, \"0\")}.png'\n",
    "\n",
    "        # read images\n",
    "        img1 = cv2.imread(str(path1))  \n",
    "        img2 = cv2.imread(str(path2))\n",
    "\n",
    "        img1 = cv2.cvtColor(img1, cv2.COLOR_BGR2GRAY)\n",
    "        img2 = cv2.cvtColor(img2, cv2.COLOR_BGR2GRAY)\n",
    "\n",
    "        #sift\n",
    "        sift = cv2.xfeatures2d.SIFT_create()\n",
    "\n",
    "        keypoints_1, descriptors_1 = sift.detectAndCompute(img1,None)\n",
    "        keypoints_2, descriptors_2 = sift.detectAndCompute(img2,None)\n",
    "\n",
    "        FLANN_INDEX_KDTREE = 0\n",
    "        index_params = dict(algorithm = FLANN_INDEX_KDTREE, trees = 5)\n",
    "        search_params = dict(checks=50) \n",
    "        flann = cv2.FlannBasedMatcher(index_params,search_params)\n",
    "        k_matches = flann.knnMatch(descriptors_1,descriptors_2, k=2)\n",
    "\n",
    "        # Apply ratio test\n",
    "        good = 0\n",
    "        for m,n in k_matches:\n",
    "            if m.distance < 0.75*n.distance:\n",
    "                good+=1\n",
    "        matched = good\n",
    "        results.append([(person, index1, index2), matched, good])"
   ]
  },
  {
   "cell_type": "code",
   "execution_count": 7,
   "id": "1c72fc47",
   "metadata": {},
   "outputs": [],
   "source": [
    "# results = []\n",
    "\n",
    "# # positive test\n",
    "# for pair in pairs:\n",
    "#     (person1,index1),(person2,index2) = pair\n",
    "#     path1 = BASE_PATH / person1 / f'{person1}_{str(index1).rjust(4, \"0\")}.png'\n",
    "#     path2 = BASE_PATH / person2 / f'{person2}_{str(index2).rjust(4, \"0\")}.png'\n",
    "    \n",
    "# #     try:\n",
    "#     features1,features2=get_embeddings([path1, path2])\n",
    "#     matched, distance = is_match(features1, features2)\n",
    "# #     except Exception as e:\n",
    "# #         print(e)\n",
    "# #         continue\n",
    "    \n",
    "#     results.append([pair, matched, distance])"
   ]
  },
  {
   "cell_type": "code",
   "execution_count": 8,
   "id": "8bfa6eca",
   "metadata": {},
   "outputs": [],
   "source": [
    "TP=len([x for x in results if x[1]]) / len(results)\n",
    "FN=1-TP"
   ]
  },
  {
   "cell_type": "code",
   "execution_count": 9,
   "id": "7e3a55fc",
   "metadata": {},
   "outputs": [
    {
     "data": {
      "text/plain": [
       "0.5934065934065934"
      ]
     },
     "execution_count": 9,
     "metadata": {},
     "output_type": "execute_result"
    }
   ],
   "source": [
    "TP"
   ]
  },
  {
   "cell_type": "code",
   "execution_count": 10,
   "id": "e41a2960",
   "metadata": {},
   "outputs": [
    {
     "data": {
      "text/plain": [
       "0.4065934065934066"
      ]
     },
     "execution_count": 10,
     "metadata": {},
     "output_type": "execute_result"
    }
   ],
   "source": [
    "FN"
   ]
  },
  {
   "cell_type": "code",
   "execution_count": 11,
   "id": "79e35911",
   "metadata": {},
   "outputs": [
    {
     "data": {
      "text/plain": [
       "55"
      ]
     },
     "execution_count": 11,
     "metadata": {},
     "output_type": "execute_result"
    }
   ],
   "source": [
    "len(list(BASE_PATH.iterdir()))"
   ]
  },
  {
   "cell_type": "code",
   "execution_count": 8,
   "id": "4e746ec5",
   "metadata": {},
   "outputs": [],
   "source": [
    "import random\n",
    "results_neg = []\n",
    "count = 0\n",
    "\n",
    "for person1 in BASE_PATH.iterdir():\n",
    "    random_people = list(BASE_PATH.iterdir())\n",
    "    random.shuffle(random_people)\n",
    "    i=0\n",
    "    for person2 in random_people:\n",
    "        if not person1.is_dir() or not person2.is_dir() or person1.name == person2.name or not person1.name.isalpha() or not person2.name.isalpha():\n",
    "            continue\n",
    "        count += 1\n",
    "        if count >= len(results):\n",
    "            break\n",
    "        index1 = index2 = 1\n",
    "        \n",
    "        path1 = BASE_PATH / person1.name / f'{person1.name}_{str(index1).rjust(4, \"0\")}.png'\n",
    "        path2 = BASE_PATH / person2.name / f'{person2.name}_{str(index2).rjust(4, \"0\")}.png'\n",
    "\n",
    "        try:\n",
    "            # read images\n",
    "            img1 = cv2.imread(str(path1))  \n",
    "            img2 = cv2.imread(str(path2))\n",
    "\n",
    "            img1 = cv2.cvtColor(img1, cv2.COLOR_BGR2GRAY)\n",
    "            img2 = cv2.cvtColor(img2, cv2.COLOR_BGR2GRAY)\n",
    "\n",
    "            #sift\n",
    "            sift = cv2.xfeatures2d.SIFT_create()\n",
    "\n",
    "            keypoints_1, descriptors_1 = sift.detectAndCompute(img1,None)\n",
    "            keypoints_2, descriptors_2 = sift.detectAndCompute(img2,None)\n",
    "\n",
    "            FLANN_INDEX_KDTREE = 0\n",
    "            index_params = dict(algorithm = FLANN_INDEX_KDTREE, trees = 5)\n",
    "            search_params = dict(checks=50) \n",
    "            flann = cv2.FlannBasedMatcher(index_params,search_params)\n",
    "            k_matches = flann.knnMatch(descriptors_1,descriptors_2, k=2)\n",
    "\n",
    "            # Apply ratio test\n",
    "            good = []\n",
    "            for m,n in k_matches:\n",
    "                if m.distance < 0.75*n.distance:\n",
    "                    good.append([m])\n",
    "                    a=len(good)\n",
    "            percent=((a*100)/len(keypoints_2))\n",
    "            matched = percent >= 75.0\n",
    "        except Exception as e:\n",
    "            print(e)\n",
    "            continue\n",
    "\n",
    "        results_neg.append([(person1, person2), matched, percent])"
   ]
  },
  {
   "cell_type": "code",
   "execution_count": 13,
   "id": "292ecad1",
   "metadata": {},
   "outputs": [],
   "source": [
    "FP=len([x for x in results_neg if x[1]]) / len(results_neg)\n",
    "TN=1-FP"
   ]
  },
  {
   "cell_type": "code",
   "execution_count": 14,
   "id": "fd915380",
   "metadata": {},
   "outputs": [
    {
     "data": {
      "text/plain": [
       "91"
      ]
     },
     "execution_count": 14,
     "metadata": {},
     "output_type": "execute_result"
    }
   ],
   "source": [
    "len(results)"
   ]
  },
  {
   "cell_type": "code",
   "execution_count": 15,
   "id": "51da7b36",
   "metadata": {},
   "outputs": [
    {
     "data": {
      "text/plain": [
       "90"
      ]
     },
     "execution_count": 15,
     "metadata": {},
     "output_type": "execute_result"
    }
   ],
   "source": [
    "len(results_neg)"
   ]
  },
  {
   "cell_type": "code",
   "execution_count": 9,
   "id": "3280b2d2",
   "metadata": {},
   "outputs": [
    {
     "data": {
      "image/png": "[encoded data removed]",
      "text/plain": [
       "<Figure size 432x288 with 2 Axes>"
      ]
     },
     "metadata": {},
     "output_type": "display_data"
    }
   ],
   "source": [
    "TP=len([x for x in results if x[1]]) / (len(results) + len(results_neg))\n",
    "FN=len([x for x in results if not x[1]]) / (len(results) + len(results_neg))\n",
    "FP=len([x for x in results_neg if x[1]]) / (len(results) + len(results_neg))\n",
    "TN=len([x for x in results_neg if not x[1]]) / (len(results) + len(results_neg))\n",
    "import seaborn as sn\n",
    "import pandas as pd\n",
    "import matplotlib.pyplot as plt\n",
    "\n",
    "array = [[TP,FN],\n",
    "         [FP,TN]]\n",
    "\n",
    "df_cm = pd.DataFrame(array, ['same', 'different'], ['verified', 'unverified'])\n",
    "# plt.figure(figsize=(10,7))\n",
    "sn.set(font_scale=1.4) # for label size\n",
    "sn.heatmap(df_cm, annot=True, annot_kws={\"size\": 16}) # font size\n",
    "\n",
    "plt.show()"
   ]
  },
  {
   "cell_type": "code",
   "execution_count": 10,
   "id": "1b3897a0",
   "metadata": {},
   "outputs": [
    {
     "data": {
      "text/plain": [
       "SVC()"
      ]
     },
     "execution_count": 10,
     "metadata": {},
     "output_type": "execute_result"
    }
   ],
   "source": [
    "from sklearn import svm\n",
    "X = [x[2] for x in results] + [x[2] for x in results_neg]\n",
    "y = [1 for x in results] + [0 for x in results_neg]\n",
    "clf = svm.SVC() #kernel=\"linear\")\n",
    "clf.fit(np.array(X).reshape(-1, 1), y)"
   ]
  },
  {
   "cell_type": "code",
   "execution_count": 11,
   "id": "a9a052ce",
   "metadata": {},
   "outputs": [],
   "source": [
    "ps=clf.predict(np.array([x[2] for x in results]).reshape(-1, 1))"
   ]
  },
  {
   "cell_type": "code",
   "execution_count": 12,
   "id": "7082502b",
   "metadata": {},
   "outputs": [
    {
     "data": {
      "text/plain": [
       "58"
      ]
     },
     "execution_count": 12,
     "metadata": {},
     "output_type": "execute_result"
    }
   ],
   "source": [
    "len([x for x in ps if x == 1])"
   ]
  },
  {
   "cell_type": "code",
   "execution_count": 13,
   "id": "1e8a2ef1",
   "metadata": {},
   "outputs": [],
   "source": [
    "ns=clf.predict(np.array([x[2] for x in results_neg]).reshape(-1, 1))"
   ]
  },
  {
   "cell_type": "code",
   "execution_count": 14,
   "id": "314f744d",
   "metadata": {},
   "outputs": [
    {
     "data": {
      "text/plain": [
       "array([ 1.58730159,  2.60869565,  0.84745763,  5.70175439,  9.02777778,\n",
       "        0.78125   ,  1.83486239,  2.47933884,  3.57142857,  0.95238095,\n",
       "        1.1627907 ,  0.64102564,  4.1322314 , 10.09174312,  2.27272727,\n",
       "        0.87719298,  2.7027027 , 11.88118812,  2.97029703,  9.80392157,\n",
       "        2.02020202,  1.07526882,  1.29032258,  3.63636364,  3.96039604,\n",
       "        4.16666667,  4.71698113, 19.78021978,  0.81967213,  4.31034483,\n",
       "        8.62068966,  3.30578512,  1.52671756,  3.24675325,  4.58715596,\n",
       "        2.04081633,  0.84033613,  2.47933884,  2.14285714,  2.3255814 ,\n",
       "        2.12765957,  6.31578947,  4.76190476,  7.56302521,  4.        ,\n",
       "        3.63636364,  2.83687943,  8.91089109,  2.58064516,  5.26315789,\n",
       "        3.19148936,  3.7037037 ,  0.41152263,  6.10687023,  4.46428571,\n",
       "        1.96078431, 16.66666667,  2.75229358,  1.05263158,  8.69565217,\n",
       "        4.6875    ,  4.83870968,  2.20588235,  3.22580645,  0.74626866,\n",
       "        1.78571429,  1.2345679 ,  3.37837838,  1.52671756,  1.51515152,\n",
       "        5.79710145,  2.58064516,  3.53982301,  3.30578512,  0.91743119,\n",
       "        0.85470085,  3.07692308,  1.73913043,  6.02409639,  2.29007634,\n",
       "        3.31125828,  3.73134328,  2.77777778,  2.54237288,  3.7593985 ,\n",
       "       11.42857143,  6.10687023,  4.51612903,  0.9009009 ,  3.67647059,\n",
       "        3.80952381,  1.20481928,  0.84745763,  0.76335878,  0.47619048,\n",
       "        1.02040816,  0.64102564,  3.18471338,  0.33898305,  1.35135135,\n",
       "        2.35294118,  1.51515152,  2.04081633,  1.5625    ,  1.38888889,\n",
       "        2.34375   ,  3.25203252,  1.9047619 ,  0.61349693,  0.65789474,\n",
       "        0.35460993,  3.87596899,  1.5503876 ,  2.88461538,  0.91743119,\n",
       "        1.3986014 ,  1.38888889,  0.8       ,  0.27548209,  0.98039216,\n",
       "        3.07692308,  2.65486726,  1.85185185,  3.7593985 ,  5.37634409,\n",
       "        0.68965517,  0.74626866,  2.4691358 ,  0.85470085,  1.28205128,\n",
       "        2.24719101,  0.99009901, 10.34482759,  2.94117647,  5.        ,\n",
       "        1.22699387,  2.04081633,  1.8018018 ,  0.80645161,  1.34228188,\n",
       "        1.66666667,  1.47058824,  2.23463687,  2.04081633,  1.47058824,\n",
       "        3.52941176,  6.15384615,  6.89655172,  6.17283951,  3.47222222,\n",
       "        2.38095238,  0.9009009 ,  0.61349693,  0.65789474,  1.11111111,\n",
       "        0.78125   ,  2.54237288,  0.75757576,  1.7699115 ,  2.5       ,\n",
       "        0.52083333,  0.33898305,  1.28205128,  2.56410256,  3.61445783,\n",
       "        0.95238095,  1.5503876 ,  1.37931034,  3.84615385,  0.67567568,\n",
       "        0.76335878,  0.63694268,  1.83486239,  1.98019802,  0.55865922,\n",
       "        0.80645161,  1.41843972,  1.34228188,  1.22699387,  3.06122449,\n",
       "        4.30107527])"
      ]
     },
     "execution_count": 14,
     "metadata": {},
     "output_type": "execute_result"
    }
   ],
   "source": [
    "np.array([x[2] for x in results + results_neg])"
   ]
  },
  {
   "cell_type": "code",
   "execution_count": 15,
   "id": "6c7f9260",
   "metadata": {},
   "outputs": [
    {
     "data": {
      "text/plain": [
       "33"
      ]
     },
     "execution_count": 15,
     "metadata": {},
     "output_type": "execute_result"
    }
   ],
   "source": [
    "len([x for x in ps if x == 0])"
   ]
  },
  {
   "cell_type": "code",
   "execution_count": 16,
   "id": "143a17ac",
   "metadata": {},
   "outputs": [
    {
     "data": {
      "text/plain": [
       "91"
      ]
     },
     "execution_count": 16,
     "metadata": {},
     "output_type": "execute_result"
    }
   ],
   "source": [
    "len(ps)"
   ]
  },
  {
   "cell_type": "code",
   "execution_count": 17,
   "id": "3c533a15",
   "metadata": {},
   "outputs": [
    {
     "data": {
      "image/png": "[encoded data removed]",
      "text/plain": [
       "<Figure size 432x288 with 2 Axes>"
      ]
     },
     "metadata": {},
     "output_type": "display_data"
    }
   ],
   "source": [
    "TP=len([x for x in ps if x]) / (len(results) + len(results_neg))\n",
    "FN=len([x for x in ps if not x]) / (len(results) + len(results_neg))\n",
    "FP=len([x for x in ns if x]) / (len(results) + len(results_neg))\n",
    "TN=len([x for x in ns if not x]) / (len(results) + len(results_neg))\n",
    "import seaborn as sn\n",
    "import pandas as pd\n",
    "import matplotlib.pyplot as plt\n",
    "\n",
    "array = [[TP,FN],\n",
    "         [FP,TN]]\n",
    "\n",
    "df_cm = pd.DataFrame(array, ['same', 'different'], ['verified', 'unverified'])\n",
    "# plt.figure(figsize=(10,7))\n",
    "sn.set(font_scale=1.4) # for label size\n",
    "sn.heatmap(df_cm, annot=True, annot_kws={\"size\": 16}) # font size\n",
    "\n",
    "plt.show()"
   ]
  },
  {
   "cell_type": "code",
   "execution_count": 25,
   "id": "9523ea1c",
   "metadata": {},
   "outputs": [
    {
     "data": {
      "text/plain": [
       "0.46408839779005523"
      ]
     },
     "execution_count": 25,
     "metadata": {},
     "output_type": "execute_result"
    }
   ],
   "source": [
    "TP"
   ]
  },
  {
   "cell_type": "code",
   "execution_count": 26,
   "id": "e6c23ae4",
   "metadata": {},
   "outputs": [
    {
     "data": {
      "text/plain": [
       "0.03867403314917127"
      ]
     },
     "execution_count": 26,
     "metadata": {},
     "output_type": "execute_result"
    }
   ],
   "source": [
    "FN"
   ]
  },
  {
   "cell_type": "code",
   "execution_count": 27,
   "id": "38a5256f",
   "metadata": {},
   "outputs": [
    {
     "data": {
      "text/plain": [
       "0.03867403314917127"
      ]
     },
     "execution_count": 27,
     "metadata": {},
     "output_type": "execute_result"
    }
   ],
   "source": [
    "FP"
   ]
  },
  {
   "cell_type": "code",
   "execution_count": 28,
   "id": "2f5ab3ba",
   "metadata": {},
   "outputs": [
    {
     "data": {
      "text/plain": [
       "181"
      ]
     },
     "execution_count": 28,
     "metadata": {},
     "output_type": "execute_result"
    }
   ],
   "source": [
    "len(results) + len(results_neg)"
   ]
  },
  {
   "cell_type": "code",
   "execution_count": 29,
   "id": "0e29c734",
   "metadata": {},
   "outputs": [
    {
     "data": {
      "text/plain": [
       "[(0.59, array([1])),\n",
       " (0.591, array([1])),\n",
       " (0.592, array([1])),\n",
       " (0.593, array([1])),\n",
       " (0.594, array([1])),\n",
       " (0.595, array([1])),\n",
       " (0.596, array([1])),\n",
       " (0.597, array([1])),\n",
       " (0.598, array([1])),\n",
       " (0.599, array([1]))]"
      ]
     },
     "execution_count": 29,
     "metadata": {},
     "output_type": "execute_result"
    }
   ],
   "source": [
    "[(0.59+x/1000,clf.predict(np.array(0.59+x/1000).reshape(-1, 1))) for x in range(10)]"
   ]
  },
  {
   "cell_type": "code",
   "execution_count": 18,
   "id": "309d6b64",
   "metadata": {},
   "outputs": [],
   "source": [
    "import seaborn as sns\n",
    "total_results = pd.DataFrame(data=[(x[2],\"positive\") for x in results]+[(x[2],\"negative\") for x in results_neg], columns=[\"distance\", \"type\"])"
   ]
  },
  {
   "cell_type": "code",
   "execution_count": 19,
   "id": "da16b27e",
   "metadata": {},
   "outputs": [
    {
     "data": {
      "text/plain": [
       "<AxesSubplot:xlabel='distance', ylabel='Percent'>"
      ]
     },
     "execution_count": 19,
     "metadata": {},
     "output_type": "execute_result"
    },
    {
     "data": {
      "image/png": "[encoded data removed]",
      "text/plain": [
       "<Figure size 432x288 with 1 Axes>"
      ]
     },
     "metadata": {},
     "output_type": "display_data"
    }
   ],
   "source": [
    "sns.histplot(total_results, x='distance', hue='type', element='step', kde=True, stat='percent')"
   ]
  },
  {
   "cell_type": "code",
   "execution_count": null,
   "id": "71939331",
   "metadata": {},
   "outputs": [],
   "source": []
  },
  {
   "cell_type": "code",
   "execution_count": null,
   "id": "db65c1a6",
   "metadata": {},
   "outputs": [],
   "source": []
  },
  {
   "cell_type": "code",
   "execution_count": null,
   "id": "7d6817ac",
   "metadata": {},
   "outputs": [],
   "source": []
  },
  {
   "cell_type": "code",
   "execution_count": null,
   "id": "d401b728",
   "metadata": {},
   "outputs": [],
   "source": []
  }
 ],
 "metadata": {
  "kernelspec": {
   "display_name": "Python 3 (ipykernel)",
   "language": "python",
   "name": "python3"
  },
  "language_info": {
   "codemirror_mode": {
    "name": "ipython",
    "version": 3
   },
   "file_extension": ".py",
   "mimetype": "text/x-python",
   "name": "python",
   "nbconvert_exporter": "python",
   "pygments_lexer": "ipython3",
   "version": "3.9.7"
  }
 },
 "nbformat": 4,
 "nbformat_minor": 5
}
