{
 "cells": [
  {
   "cell_type": "code",
   "execution_count": 2,
   "id": "bc19593e",
   "metadata": {},
   "outputs": [],
   "source": [
    "# face verification with the VGGFace2 model\n",
    "from matplotlib import pyplot\n",
    "from PIL import Image\n",
    "from numpy import asarray\n",
    "from scipy.spatial.distance import cosine\n",
    "from mtcnn.mtcnn import MTCNN\n",
    "# from keras_vggface.vggface import VGGFace\n",
    "# from keras_vggface.utils import preprocess_input\n",
    "import pandas as pd\n",
    "\n",
    "# # extract a single face from a given photograph\n",
    "# def extract_face(filename, required_size=(224, 224)):\n",
    "#     # load image from file\n",
    "# #     pixels = pyplot.imread(filename)\n",
    "# #     # create the detector, using default weights\n",
    "# #     detector = MTCNN()\n",
    "# #     # detect faces in the image\n",
    "# #     results = detector.detect_faces(pixels)\n",
    "# #     # extract the bounding box from the first face\n",
    "# #     x1, y1, width, height = results[0]['box']\n",
    "# #     x2, y2 = x1 + width, y1 + height\n",
    "# #     # extract the face\n",
    "# #     face = pixels[y1:y2, x1:x2]\n",
    "#     # resize pixels to the model size\n",
    "#     image = Image.open(filename)\n",
    "#     image = image.resize(required_size)\n",
    "#     face_array = asarray(image)\n",
    "#     return face_array\n",
    "\n",
    "# def prepare_file(filenames):\n",
    "#     # extract faces\n",
    "#     faces = [extract_face(f) for f in filenames]\n",
    "#     # convert into an array of samples\n",
    "#     samples = asarray(faces, 'float32')\n",
    "#     # prepare the face for the model, e.g. center pixels\n",
    "#     return preprocess_input(samples, version=2)\n",
    "\n",
    "# model = None\n",
    "# # extract faces and calculate face embeddings for a list of photo files\n",
    "# def get_embeddings(filenames):\n",
    "#     # extract faces\n",
    "#     faces = [extract_face(f) for f in filenames]\n",
    "#     # convert into an array of samples\n",
    "#     samples = asarray(faces, 'float32')\n",
    "#     # prepare the face for the model, e.g. center pixels\n",
    "#     samples = preprocess_input(samples, version=2)\n",
    "#     # create a vggface model\n",
    "#     global model\n",
    "#     if not model:\n",
    "#         model = VGGFace(model='resnet50', include_top=False, input_shape=(224, 224, 3), pooling='avg')\n",
    "#     # perform prediction\n",
    "#     yhat = model.predict(samples)\n",
    "#     return yhat\n",
    "\n",
    "# # determine if a candidate face is a match for a known face\n",
    "# def is_match(known_embedding, candidate_embedding, thresh=0.5):\n",
    "#     # calculate distance between embeddings\n",
    "#     score = cosine(known_embedding, candidate_embedding)\n",
    "#     if score <= thresh:\n",
    "#         print('>face is a Match (%.3f <= %.3f)' % (score, thresh))\n",
    "#         return True, score\n",
    "#     else:\n",
    "#         print('>face is NOT a Match (%.3f > %.3f)' % (score, thresh))\n",
    "#         return False, score"
   ]
  },
  {
   "cell_type": "code",
   "execution_count": 3,
   "id": "554cc3e2",
   "metadata": {},
   "outputs": [],
   "source": [
    "import numpy as np\n",
    "import matplotlib.pyplot as plt\n",
    "import pathlib\n",
    "import pandas as pd"
   ]
  },
  {
   "cell_type": "code",
   "execution_count": 4,
   "id": "78dff1e9",
   "metadata": {},
   "outputs": [],
   "source": [
    "BASE_PATH = pathlib.Path('../data/mfr2')\n",
    "labels_path = BASE_PATH / 'mfr2_labels.txt'\n",
    "pairs_path = BASE_PATH / 'pairs.txt'"
   ]
  },
  {
   "cell_type": "code",
   "execution_count": 5,
   "id": "f10eb0b2",
   "metadata": {},
   "outputs": [],
   "source": [
    "labels=pd.read_csv(filepath_or_buffer=str(labels_path))\n",
    "labels=labels.apply(lambda x: x.apply(lambda y: y.strip() if type(y) == type('') else y), axis=0)\n",
    "people=labels[\"person\"].unique()\n",
    "\n",
    "def get_indexes(person, mask=True):\n",
    "    if mask:\n",
    "        mask_filter = labels[\"mask\"]!=\"no-mask\"\n",
    "    else:\n",
    "        mask_filter = labels[\"mask\"]==\"no-mask\"\n",
    "    person_filter = labels[\"person\"]==person\n",
    "    return list(labels[person_filter & mask_filter][\"index\"])\n",
    "\n",
    "total_pairs={person:list(zip(get_indexes(person,mask=True), get_indexes(person, mask=False))) for person in people}"
   ]
  },
  {
   "cell_type": "code",
   "execution_count": 6,
   "id": "4573aa2d",
   "metadata": {},
   "outputs": [
    {
     "name": "stdout",
     "output_type": "stream",
     "text": [
      "0.7936507936507936 % similarity\n",
      "Match not Found\n",
      "1.5873015873015872 % similarity\n",
      "Match not Found\n"
     ]
    }
   ],
   "source": [
    "import cv2 \n",
    "import matplotlib.pyplot as plt\n",
    "%matplotlib inline\n",
    "\n",
    "person, pairs = list(total_pairs.items())[0]\n",
    "index1, index2 = pairs[0]\n",
    "path1 = BASE_PATH / person / f'{person}_{str(index1).rjust(4, \"0\")}.png'\n",
    "path2 = BASE_PATH / person / f'{person}_{str(index2).rjust(4, \"0\")}.png'\n",
    "# read images\n",
    "img1 = cv2.imread(str(path1))  \n",
    "img2 = cv2.imread(str(path2))\n",
    "\n",
    "img1 = cv2.cvtColor(img1, cv2.COLOR_BGR2GRAY)\n",
    "img2 = cv2.cvtColor(img2, cv2.COLOR_BGR2GRAY)\n",
    "\n",
    "#sift\n",
    "sift = cv2.xfeatures2d.SIFT_create()\n",
    "\n",
    "keypoints_1, descriptors_1 = sift.detectAndCompute(img1,None)\n",
    "keypoints_2, descriptors_2 = sift.detectAndCompute(img2,None)\n",
    "\n",
    "#feature matching\n",
    "FLANN_INDEX_KDTREE = 0\n",
    "index_params = dict(algorithm = FLANN_INDEX_KDTREE, trees = 5)\n",
    "search_params = dict(checks=50) \n",
    "flann = cv2.FlannBasedMatcher(index_params,search_params)\n",
    "k_matches = flann.knnMatch(descriptors_1,descriptors_2, k=2)\n",
    "\n",
    "# Apply ratio test\n",
    "good = []\n",
    "for m,n in k_matches:\n",
    "    if m.distance < 0.75*n.distance:\n",
    "        good.append([m])\n",
    "        a=len(good)\n",
    "        percent=(a*100)/len(keypoints_2)\n",
    "        print(\"{} % similarity\".format(percent))\n",
    "        if percent >= 75.00:\n",
    "            print('Match Found')\n",
    "        if percent < 75.00:\n",
    "            print('Match not Found')"
   ]
  },
  {
   "cell_type": "code",
   "execution_count": 15,
   "id": "c8670d64",
   "metadata": {},
   "outputs": [
    {
     "data": {
      "text/plain": [
       "362.8636169433594"
      ]
     },
     "execution_count": 15,
     "metadata": {},
     "output_type": "execute_result"
    }
   ],
   "source": [
    "k_matches[0][1].distance"
   ]
  },
  {
   "cell_type": "code",
   "execution_count": 20,
   "id": "91f76362",
   "metadata": {
    "scrolled": true
   },
   "outputs": [],
   "source": [
    "results = []\n",
    "\n",
    "# positive test\n",
    "for person, pairs in total_pairs.items():\n",
    "    for index1, index2 in pairs:\n",
    "        path1 = BASE_PATH / person / f'{person}_{str(index1).rjust(4, \"0\")}.png'\n",
    "        path2 = BASE_PATH / person / f'{person}_{str(index2).rjust(4, \"0\")}.png'\n",
    "\n",
    "        # read images\n",
    "        img1 = cv2.imread(str(path1))  \n",
    "        img2 = cv2.imread(str(path2))\n",
    "\n",
    "        img1 = cv2.cvtColor(img1, cv2.COLOR_BGR2GRAY)\n",
    "        img2 = cv2.cvtColor(img2, cv2.COLOR_BGR2GRAY)\n",
    "\n",
    "        #sift\n",
    "        sift = cv2.xfeatures2d.SIFT_create()\n",
    "\n",
    "        keypoints_1, descriptors_1 = sift.detectAndCompute(img1,None)\n",
    "        keypoints_2, descriptors_2 = sift.detectAndCompute(img2,None)\n",
    "\n",
    "        FLANN_INDEX_KDTREE = 0\n",
    "        index_params = dict(algorithm = FLANN_INDEX_KDTREE, trees = 5)\n",
    "        search_params = dict(checks=50) \n",
    "        flann = cv2.FlannBasedMatcher(index_params,search_params)\n",
    "        k_matches = flann.knnMatch(descriptors_1,descriptors_2, k=2)\n",
    "\n",
    "        # Apply ratio test\n",
    "        good = 0\n",
    "        for m,n in k_matches:\n",
    "            if m.distance < 0.75*n.distance:\n",
    "                good+=1\n",
    "        matched = good > 50\n",
    "        results.append([(person, index1, index2), matched, good])"
   ]
  },
  {
   "cell_type": "code",
   "execution_count": 7,
   "id": "1c72fc47",
   "metadata": {},
   "outputs": [],
   "source": [
    "# results = []\n",
    "\n",
    "# # positive test\n",
    "# for pair in pairs:\n",
    "#     (person1,index1),(person2,index2) = pair\n",
    "#     path1 = BASE_PATH / person1 / f'{person1}_{str(index1).rjust(4, \"0\")}.png'\n",
    "#     path2 = BASE_PATH / person2 / f'{person2}_{str(index2).rjust(4, \"0\")}.png'\n",
    "    \n",
    "# #     try:\n",
    "#     features1,features2=get_embeddings([path1, path2])\n",
    "#     matched, distance = is_match(features1, features2)\n",
    "# #     except Exception as e:\n",
    "# #         print(e)\n",
    "# #         continue\n",
    "    \n",
    "#     results.append([pair, matched, distance])"
   ]
  },
  {
   "cell_type": "code",
   "execution_count": 8,
   "id": "8bfa6eca",
   "metadata": {},
   "outputs": [],
   "source": [
    "TP=len([x for x in results if x[1]]) / len(results)\n",
    "FN=1-TP"
   ]
  },
  {
   "cell_type": "code",
   "execution_count": 9,
   "id": "7e3a55fc",
   "metadata": {},
   "outputs": [
    {
     "data": {
      "text/plain": [
       "0.5934065934065934"
      ]
     },
     "execution_count": 9,
     "metadata": {},
     "output_type": "execute_result"
    }
   ],
   "source": [
    "TP"
   ]
  },
  {
   "cell_type": "code",
   "execution_count": 10,
   "id": "e41a2960",
   "metadata": {},
   "outputs": [
    {
     "data": {
      "text/plain": [
       "0.4065934065934066"
      ]
     },
     "execution_count": 10,
     "metadata": {},
     "output_type": "execute_result"
    }
   ],
   "source": [
    "FN"
   ]
  },
  {
   "cell_type": "code",
   "execution_count": 11,
   "id": "79e35911",
   "metadata": {},
   "outputs": [
    {
     "data": {
      "text/plain": [
       "55"
      ]
     },
     "execution_count": 11,
     "metadata": {},
     "output_type": "execute_result"
    }
   ],
   "source": [
    "len(list(BASE_PATH.iterdir()))"
   ]
  },
  {
   "cell_type": "code",
   "execution_count": 21,
   "id": "4e746ec5",
   "metadata": {},
   "outputs": [],
   "source": [
    "import random\n",
    "results_neg = []\n",
    "count = 0\n",
    "\n",
    "for person1 in BASE_PATH.iterdir():\n",
    "    random_people = list(BASE_PATH.iterdir())\n",
    "    random.shuffle(random_people)\n",
    "    i=0\n",
    "    for person2 in random_people:\n",
    "        if not person1.is_dir() or not person2.is_dir() or person1.name == person2.name or not person1.name.isalpha() or not person2.name.isalpha():\n",
    "            continue\n",
    "        count += 1\n",
    "        if count >= len(results):\n",
    "            break\n",
    "        index1 = index2 = 1\n",
    "        \n",
    "        path1 = BASE_PATH / person1.name / f'{person1.name}_{str(index1).rjust(4, \"0\")}.png'\n",
    "        path2 = BASE_PATH / person2.name / f'{person2.name}_{str(index2).rjust(4, \"0\")}.png'\n",
    "\n",
    "        try:\n",
    "            # read images\n",
    "            img1 = cv2.imread(str(path1))  \n",
    "            img2 = cv2.imread(str(path2))\n",
    "\n",
    "            img1 = cv2.cvtColor(img1, cv2.COLOR_BGR2GRAY)\n",
    "            img2 = cv2.cvtColor(img2, cv2.COLOR_BGR2GRAY)\n",
    "\n",
    "            #sift\n",
    "            sift = cv2.xfeatures2d.SIFT_create()\n",
    "\n",
    "            keypoints_1, descriptors_1 = sift.detectAndCompute(img1,None)\n",
    "            keypoints_2, descriptors_2 = sift.detectAndCompute(img2,None)\n",
    "\n",
    "            FLANN_INDEX_KDTREE = 0\n",
    "            index_params = dict(algorithm = FLANN_INDEX_KDTREE, trees = 5)\n",
    "            search_params = dict(checks=50) \n",
    "            flann = cv2.FlannBasedMatcher(index_params,search_params)\n",
    "            k_matches = flann.knnMatch(descriptors_1,descriptors_2, k=2)\n",
    "\n",
    "            # Apply ratio test\n",
    "            good = 0\n",
    "            for m,n in k_matches:\n",
    "                if m.distance < 0.75*n.distance:\n",
    "                    good+=1\n",
    "            matched = good > 50\n",
    "        except Exception as e:\n",
    "            print(e)\n",
    "            continue\n",
    "\n",
    "        results_neg.append([(person1, person2), matched, good])"
   ]
  },
  {
   "cell_type": "code",
   "execution_count": 22,
   "id": "292ecad1",
   "metadata": {},
   "outputs": [],
   "source": [
    "FP=len([x for x in results_neg if x[1]]) / len(results_neg)\n",
    "TN=1-FP"
   ]
  },
  {
   "cell_type": "code",
   "execution_count": 23,
   "id": "fd915380",
   "metadata": {},
   "outputs": [
    {
     "data": {
      "text/plain": [
       "91"
      ]
     },
     "execution_count": 23,
     "metadata": {},
     "output_type": "execute_result"
    }
   ],
   "source": [
    "len(results)"
   ]
  },
  {
   "cell_type": "code",
   "execution_count": 24,
   "id": "51da7b36",
   "metadata": {},
   "outputs": [
    {
     "data": {
      "text/plain": [
       "90"
      ]
     },
     "execution_count": 24,
     "metadata": {},
     "output_type": "execute_result"
    }
   ],
   "source": [
    "len(results_neg)"
   ]
  },
  {
   "cell_type": "code",
   "execution_count": 25,
   "id": "3280b2d2",
   "metadata": {},
   "outputs": [
    {
     "data": {
      "image/png": "[encoded data removed]",
      "text/plain": [
       "<Figure size 432x288 with 2 Axes>"
      ]
     },
     "metadata": {},
     "output_type": "display_data"
    }
   ],
   "source": [
    "TP=len([x for x in results if x[1]]) / (len(results) + len(results_neg))\n",
    "FN=len([x for x in results if not x[1]]) / (len(results) + len(results_neg))\n",
    "FP=len([x for x in results_neg if x[1]]) / (len(results) + len(results_neg))\n",
    "TN=len([x for x in results_neg if not x[1]]) / (len(results) + len(results_neg))\n",
    "import seaborn as sn\n",
    "import pandas as pd\n",
    "import matplotlib.pyplot as plt\n",
    "\n",
    "array = [[TP,FN],\n",
    "         [FP,TN]]\n",
    "\n",
    "df_cm = pd.DataFrame(array, ['same', 'different'], ['verified', 'unverified'])\n",
    "# plt.figure(figsize=(10,7))\n",
    "sn.set(font_scale=1.4) # for label size\n",
    "sn.heatmap(df_cm, annot=True, annot_kws={\"size\": 16}) # font size\n",
    "\n",
    "plt.show()"
   ]
  },
  {
   "cell_type": "code",
   "execution_count": 26,
   "id": "1b3897a0",
   "metadata": {},
   "outputs": [
    {
     "data": {
      "text/plain": [
       "SVC()"
      ]
     },
     "execution_count": 26,
     "metadata": {},
     "output_type": "execute_result"
    }
   ],
   "source": [
    "from sklearn import svm\n",
    "X = [x[2] for x in results] + [x[2] for x in results_neg]\n",
    "y = [1 for x in results] + [0 for x in results_neg]\n",
    "clf = svm.SVC() #kernel=\"linear\")\n",
    "clf.fit(np.array(X).reshape(-1, 1), y)"
   ]
  },
  {
   "cell_type": "code",
   "execution_count": 27,
   "id": "a9a052ce",
   "metadata": {},
   "outputs": [],
   "source": [
    "ps=clf.predict(np.array([x[2] for x in results]).reshape(-1, 1))"
   ]
  },
  {
   "cell_type": "code",
   "execution_count": 28,
   "id": "7082502b",
   "metadata": {},
   "outputs": [
    {
     "data": {
      "text/plain": [
       "59"
      ]
     },
     "execution_count": 28,
     "metadata": {},
     "output_type": "execute_result"
    }
   ],
   "source": [
    "len([x for x in ps if x == 1])"
   ]
  },
  {
   "cell_type": "code",
   "execution_count": 29,
   "id": "1e8a2ef1",
   "metadata": {},
   "outputs": [],
   "source": [
    "ns=clf.predict(np.array([x[2] for x in results_neg]).reshape(-1, 1))"
   ]
  },
  {
   "cell_type": "code",
   "execution_count": 30,
   "id": "314f744d",
   "metadata": {},
   "outputs": [
    {
     "data": {
      "text/plain": [
       "array([ 2,  3,  1, 13,  0,  1,  2,  3,  4,  2,  2,  1,  5, 11,  3,  1,  4,\n",
       "       12,  3, 10,  2,  1,  2,  4,  4,  5,  5, 18,  1,  5,  5,  4,  2,  5,\n",
       "        0,  3,  1,  3,  3,  3,  2,  6,  4,  9,  5,  4,  0,  9,  4,  5,  6,\n",
       "        5,  1,  8,  5,  2, 17,  3,  2, 10,  6,  0,  3,  5,  1,  2,  1,  5,\n",
       "        2,  2,  4,  4,  4,  4,  1,  0,  4,  2,  5,  3,  5,  0,  3,  3,  5,\n",
       "       12,  8,  7,  1,  5,  4,  1,  0,  6,  5,  1,  2,  4,  1,  2,  5,  2,\n",
       "        2,  1,  2,  3,  1,  1,  3,  3,  5,  2,  1,  1,  0,  0,  1,  1,  1,\n",
       "        4,  1,  0,  3,  0,  2,  3,  2,  2,  1,  0,  1,  0,  2,  2,  3,  2,\n",
       "        0,  1,  0,  1,  0,  1,  0,  0,  1,  2,  2,  1,  0,  0,  2,  1,  3,\n",
       "        3,  2,  3,  0,  2,  4,  1,  0,  3,  3,  1,  0,  5,  3,  4,  2,  2,\n",
       "        0,  0,  7,  2,  1,  4,  0,  4,  4,  2,  2])"
      ]
     },
     "execution_count": 30,
     "metadata": {},
     "output_type": "execute_result"
    }
   ],
   "source": [
    "np.array([x[2] for x in results + results_neg])"
   ]
  },
  {
   "cell_type": "code",
   "execution_count": 31,
   "id": "6c7f9260",
   "metadata": {},
   "outputs": [
    {
     "data": {
      "text/plain": [
       "32"
      ]
     },
     "execution_count": 31,
     "metadata": {},
     "output_type": "execute_result"
    }
   ],
   "source": [
    "len([x for x in ps if x == 0])"
   ]
  },
  {
   "cell_type": "code",
   "execution_count": 32,
   "id": "143a17ac",
   "metadata": {},
   "outputs": [
    {
     "data": {
      "text/plain": [
       "91"
      ]
     },
     "execution_count": 32,
     "metadata": {},
     "output_type": "execute_result"
    }
   ],
   "source": [
    "len(ps)"
   ]
  },
  {
   "cell_type": "code",
   "execution_count": 33,
   "id": "3c533a15",
   "metadata": {},
   "outputs": [
    {
     "data": {
      "image/png": "[encoded data removed]",
      "text/plain": [
       "<Figure size 432x288 with 2 Axes>"
      ]
     },
     "metadata": {},
     "output_type": "display_data"
    }
   ],
   "source": [
    "TP=len([x for x in ps if x]) / (len(results) + len(results_neg))\n",
    "FN=len([x for x in ps if not x]) / (len(results) + len(results_neg))\n",
    "FP=len([x for x in ns if x]) / (len(results) + len(results_neg))\n",
    "TN=len([x for x in ns if not x]) / (len(results) + len(results_neg))\n",
    "import seaborn as sn\n",
    "import pandas as pd\n",
    "import matplotlib.pyplot as plt\n",
    "\n",
    "array = [[TP,FN],\n",
    "         [FP,TN]]\n",
    "\n",
    "df_cm = pd.DataFrame(array, ['same', 'different'], ['verified', 'unverified'])\n",
    "# plt.figure(figsize=(10,7))\n",
    "sn.set(font_scale=1.4) # for label size\n",
    "sn.heatmap(df_cm, annot=True, annot_kws={\"size\": 16}) # font size\n",
    "\n",
    "plt.show()"
   ]
  },
  {
   "cell_type": "code",
   "execution_count": 34,
   "id": "9523ea1c",
   "metadata": {},
   "outputs": [
    {
     "data": {
      "text/plain": [
       "0.3259668508287293"
      ]
     },
     "execution_count": 34,
     "metadata": {},
     "output_type": "execute_result"
    }
   ],
   "source": [
    "TP"
   ]
  },
  {
   "cell_type": "code",
   "execution_count": 35,
   "id": "e6c23ae4",
   "metadata": {},
   "outputs": [
    {
     "data": {
      "text/plain": [
       "0.17679558011049723"
      ]
     },
     "execution_count": 35,
     "metadata": {},
     "output_type": "execute_result"
    }
   ],
   "source": [
    "FN"
   ]
  },
  {
   "cell_type": "code",
   "execution_count": 36,
   "id": "38a5256f",
   "metadata": {},
   "outputs": [
    {
     "data": {
      "text/plain": [
       "0.13812154696132597"
      ]
     },
     "execution_count": 36,
     "metadata": {},
     "output_type": "execute_result"
    }
   ],
   "source": [
    "FP"
   ]
  },
  {
   "cell_type": "code",
   "execution_count": 37,
   "id": "2f5ab3ba",
   "metadata": {},
   "outputs": [
    {
     "data": {
      "text/plain": [
       "181"
      ]
     },
     "execution_count": 37,
     "metadata": {},
     "output_type": "execute_result"
    }
   ],
   "source": [
    "len(results) + len(results_neg)"
   ]
  },
  {
   "cell_type": "code",
   "execution_count": 38,
   "id": "0e29c734",
   "metadata": {},
   "outputs": [
    {
     "data": {
      "text/plain": [
       "[(0.59, array([0])),\n",
       " (0.591, array([0])),\n",
       " (0.592, array([0])),\n",
       " (0.593, array([0])),\n",
       " (0.594, array([0])),\n",
       " (0.595, array([0])),\n",
       " (0.596, array([0])),\n",
       " (0.597, array([0])),\n",
       " (0.598, array([0])),\n",
       " (0.599, array([0]))]"
      ]
     },
     "execution_count": 38,
     "metadata": {},
     "output_type": "execute_result"
    }
   ],
   "source": [
    "[(0.59+x/1000,clf.predict(np.array(0.59+x/1000).reshape(-1, 1))) for x in range(10)]"
   ]
  },
  {
   "cell_type": "code",
   "execution_count": 39,
   "id": "309d6b64",
   "metadata": {},
   "outputs": [],
   "source": [
    "import seaborn as sns\n",
    "total_results = pd.DataFrame(data=[(x[2],\"positive\") for x in results]+[(x[2],\"negative\") for x in results_neg], columns=[\"distance\", \"type\"])"
   ]
  },
  {
   "cell_type": "code",
   "execution_count": 40,
   "id": "da16b27e",
   "metadata": {},
   "outputs": [
    {
     "data": {
      "text/plain": [
       "<AxesSubplot:xlabel='distance', ylabel='Percent'>"
      ]
     },
     "execution_count": 40,
     "metadata": {},
     "output_type": "execute_result"
    },
    {
     "data": {
      "image/png": "[encoded data removed]",
      "text/plain": [
       "<Figure size 432x288 with 1 Axes>"
      ]
     },
     "metadata": {},
     "output_type": "display_data"
    }
   ],
   "source": [
    "sns.histplot(total_results, x='distance', hue='type', element='step', kde=True, stat='percent')"
   ]
  },
  {
   "cell_type": "code",
   "execution_count": null,
   "id": "71939331",
   "metadata": {},
   "outputs": [],
   "source": []
  },
  {
   "cell_type": "code",
   "execution_count": null,
   "id": "db65c1a6",
   "metadata": {},
   "outputs": [],
   "source": []
  },
  {
   "cell_type": "code",
   "execution_count": null,
   "id": "7d6817ac",
   "metadata": {},
   "outputs": [],
   "source": []
  },
  {
   "cell_type": "code",
   "execution_count": null,
   "id": "d401b728",
   "metadata": {},
   "outputs": [],
   "source": []
  }
 ],
 "metadata": {
  "kernelspec": {
   "display_name": "Python 3 (ipykernel)",
   "language": "python",
   "name": "python3"
  },
  "language_info": {
   "codemirror_mode": {
    "name": "ipython",
    "version": 3
   },
   "file_extension": ".py",
   "mimetype": "text/x-python",
   "name": "python",
   "nbconvert_exporter": "python",
   "pygments_lexer": "ipython3",
   "version": "3.9.7"
  }
 },
 "nbformat": 4,
 "nbformat_minor": 5
}
