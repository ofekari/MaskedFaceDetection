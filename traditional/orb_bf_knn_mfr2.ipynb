{
 "cells": [
  {
   "cell_type": "code",
   "execution_count": 1,
   "id": "bc19593e",
   "metadata": {},
   "outputs": [],
   "source": [
    "# face verification with the VGGFace2 model\n",
    "from matplotlib import pyplot\n",
    "from PIL import Image\n",
    "from numpy import asarray\n",
    "from scipy.spatial.distance import cosine\n",
    "# from mtcnn.mtcnn import MTCNN\n",
    "# from keras_vggface.vggface import VGGFace\n",
    "# from keras_vggface.utils import preprocess_input\n",
    "import pandas as pd\n",
    "\n",
    "# # extract a single face from a given photograph\n",
    "# def extract_face(filename, required_size=(224, 224)):\n",
    "#     # load image from file\n",
    "# #     pixels = pyplot.imread(filename)\n",
    "# #     # create the detector, using default weights\n",
    "# #     detector = MTCNN()\n",
    "# #     # detect faces in the image\n",
    "# #     results = detector.detect_faces(pixels)\n",
    "# #     # extract the bounding box from the first face\n",
    "# #     x1, y1, width, height = results[0]['box']\n",
    "# #     x2, y2 = x1 + width, y1 + height\n",
    "# #     # extract the face\n",
    "# #     face = pixels[y1:y2, x1:x2]\n",
    "#     # resize pixels to the model size\n",
    "#     image = Image.open(filename)\n",
    "#     image = image.resize(required_size)\n",
    "#     face_array = asarray(image)\n",
    "#     return face_array\n",
    "\n",
    "# def prepare_file(filenames):\n",
    "#     # extract faces\n",
    "#     faces = [extract_face(f) for f in filenames]\n",
    "#     # convert into an array of samples\n",
    "#     samples = asarray(faces, 'float32')\n",
    "#     # prepare the face for the model, e.g. center pixels\n",
    "#     return preprocess_input(samples, version=2)\n",
    "\n",
    "# model = None\n",
    "# # extract faces and calculate face embeddings for a list of photo files\n",
    "# def get_embeddings(filenames):\n",
    "#     # extract faces\n",
    "#     faces = [extract_face(f) for f in filenames]\n",
    "#     # convert into an array of samples\n",
    "#     samples = asarray(faces, 'float32')\n",
    "#     # prepare the face for the model, e.g. center pixels\n",
    "#     samples = preprocess_input(samples, version=2)\n",
    "#     # create a vggface model\n",
    "#     global model\n",
    "#     if not model:\n",
    "#         model = VGGFace(model='resnet50', include_top=False, input_shape=(224, 224, 3), pooling='avg')\n",
    "#     # perform prediction\n",
    "#     yhat = model.predict(samples)\n",
    "#     return yhat\n",
    "\n",
    "# # determine if a candidate face is a match for a known face\n",
    "# def is_match(known_embedding, candidate_embedding, thresh=0.5):\n",
    "#     # calculate distance between embeddings\n",
    "#     score = cosine(known_embedding, candidate_embedding)\n",
    "#     if score <= thresh:\n",
    "#         print('>face is a Match (%.3f <= %.3f)' % (score, thresh))\n",
    "#         return True, score\n",
    "#     else:\n",
    "#         print('>face is NOT a Match (%.3f > %.3f)' % (score, thresh))\n",
    "#         return False, score"
   ]
  },
  {
   "cell_type": "code",
   "execution_count": 2,
   "id": "554cc3e2",
   "metadata": {},
   "outputs": [],
   "source": [
    "import numpy as np\n",
    "import matplotlib.pyplot as plt\n",
    "import pathlib\n",
    "import pandas as pd"
   ]
  },
  {
   "cell_type": "code",
   "execution_count": 3,
   "id": "78dff1e9",
   "metadata": {},
   "outputs": [],
   "source": [
    "BASE_PATH = pathlib.Path('../data/mfr2')\n",
    "labels_path = BASE_PATH / 'mfr2_labels.txt'\n",
    "pairs_path = BASE_PATH / 'pairs.txt'"
   ]
  },
  {
   "cell_type": "code",
   "execution_count": 4,
   "id": "f10eb0b2",
   "metadata": {},
   "outputs": [],
   "source": [
    "labels=pd.read_csv(filepath_or_buffer=str(labels_path))\n",
    "labels=labels.apply(lambda x: x.apply(lambda y: y.strip() if type(y) == type('') else y), axis=0)\n",
    "people=labels[\"person\"].unique()\n",
    "\n",
    "def get_indexes(person, mask=True):\n",
    "    if mask:\n",
    "        mask_filter = labels[\"mask\"]!=\"no-mask\"\n",
    "    else:\n",
    "        mask_filter = labels[\"mask\"]==\"no-mask\"\n",
    "    person_filter = labels[\"person\"]==person\n",
    "    return list(labels[person_filter & mask_filter][\"index\"])\n",
    "\n",
    "total_pairs={person:list(zip(get_indexes(person,mask=True), get_indexes(person, mask=False))) for person in people}"
   ]
  },
  {
   "cell_type": "code",
   "execution_count": 11,
   "id": "4573aa2d",
   "metadata": {},
   "outputs": [
    {
     "name": "stdout",
     "output_type": "stream",
     "text": [
      "0.17921146953405018 % similarity\n",
      "Match not Found\n"
     ]
    }
   ],
   "source": [
    "import cv2 \n",
    "import matplotlib.pyplot as plt\n",
    "%matplotlib inline\n",
    "\n",
    "person, pairs = list(total_pairs.items())[0]\n",
    "index1, index2 = pairs[0]\n",
    "path1 = BASE_PATH / person / f'{person}_{str(index1).rjust(4, \"0\")}.png'\n",
    "path2 = BASE_PATH / person / f'{person}_{str(index2).rjust(4, \"0\")}.png'\n",
    "# read images\n",
    "img1 = cv2.imread(str(path1))  \n",
    "img2 = cv2.imread(str(path2))\n",
    "\n",
    "img1 = cv2.cvtColor(img1, cv2.COLOR_BGR2GRAY)\n",
    "img2 = cv2.cvtColor(img2, cv2.COLOR_BGR2GRAY)\n",
    "\n",
    "#sift\n",
    "sift = cv2.ORB_create(nfeatures=1500)\n",
    "\n",
    "keypoints_1, descriptors_1 = sift.detectAndCompute(img1,None)\n",
    "keypoints_2, descriptors_2 = sift.detectAndCompute(img2,None)\n",
    "\n",
    "#feature matching\n",
    "bf = cv2.BFMatcher(cv2.NORM_HAMMING)#cv2.NORM_L1, crossCheck=True)\n",
    "k_matches = bf.knnMatch(descriptors_1,descriptors_2, k=2)\n",
    "\n",
    "# Apply ratio test\n",
    "good = []\n",
    "for m,n in k_matches:\n",
    "    if m.distance < 0.75*n.distance:\n",
    "        good.append([m])\n",
    "a=len(good)\n",
    "percent=(a*100)/len(keypoints_2)\n",
    "print(\"{} % similarity\".format(percent))\n",
    "if percent >= 75.00:\n",
    "    print('Match Found')\n",
    "if percent < 75.00:\n",
    "    print('Match not Found')\n",
    "print(cosine([m for m,n in k_matches], []))"
   ]
  },
  {
   "cell_type": "code",
   "execution_count": 19,
   "id": "68b10dad",
   "metadata": {},
   "outputs": [
    {
     "data": {
      "text/plain": [
       "0.09432626193620508"
      ]
     },
     "execution_count": 19,
     "metadata": {},
     "output_type": "execute_result"
    }
   ],
   "source": [
    "cosine(descriptors_1[0], descriptors_2[0])"
   ]
  },
  {
   "cell_type": "code",
   "execution_count": 20,
   "id": "91f76362",
   "metadata": {
    "scrolled": true
   },
   "outputs": [],
   "source": [
    "results = []\n",
    "\n",
    "# positive test\n",
    "for person, pairs in total_pairs.items():\n",
    "    for index1, index2 in pairs:\n",
    "        path1 = BASE_PATH / person / f'{person}_{str(index1).rjust(4, \"0\")}.png'\n",
    "        path2 = BASE_PATH / person / f'{person}_{str(index2).rjust(4, \"0\")}.png'\n",
    "\n",
    "        # read images\n",
    "        img1 = cv2.imread(str(path1))  \n",
    "        img2 = cv2.imread(str(path2))\n",
    "\n",
    "        img1 = cv2.cvtColor(img1, cv2.COLOR_BGR2GRAY)\n",
    "        img2 = cv2.cvtColor(img2, cv2.COLOR_BGR2GRAY)\n",
    "\n",
    "        #sift\n",
    "        sift = cv2.ORB_create(nfeatures=1500)\n",
    "\n",
    "\n",
    "        keypoints_1, descriptors_1 = sift.detectAndCompute(img1,None)\n",
    "        keypoints_2, descriptors_2 = sift.detectAndCompute(img2,None)\n",
    "\n",
    "        #feature matching\n",
    "        bf = cv2.BFMatcher()\n",
    "        k_matches = bf.knnMatch(descriptors_1,descriptors_2, k=2)\n",
    "        distance = cosine(descriptors_1[0], descriptors_2[0])\n",
    "        # Apply ratio test\n",
    "        good = []\n",
    "        for m,n in k_matches:\n",
    "            if m.distance < 0.75*n.distance:\n",
    "                good.append([m])\n",
    "        a=len(good)\n",
    "        matched = a > 5 and distance < 0.3\n",
    "        results.append([(person, index1, index2), matched, distance, a])"
   ]
  },
  {
   "cell_type": "code",
   "execution_count": 7,
   "id": "1c72fc47",
   "metadata": {},
   "outputs": [],
   "source": [
    "# results = []\n",
    "\n",
    "# # positive test\n",
    "# for pair in pairs:\n",
    "#     (person1,index1),(person2,index2) = pair\n",
    "#     path1 = BASE_PATH / person1 / f'{person1}_{str(index1).rjust(4, \"0\")}.png'\n",
    "#     path2 = BASE_PATH / person2 / f'{person2}_{str(index2).rjust(4, \"0\")}.png'\n",
    "    \n",
    "# #     try:\n",
    "#     features1,features2=get_embeddings([path1, path2])\n",
    "#     matched, distance = is_match(features1, features2)\n",
    "# #     except Exception as e:\n",
    "# #         print(e)\n",
    "# #         continue\n",
    "    \n",
    "#     results.append([pair, matched, distance])"
   ]
  },
  {
   "cell_type": "code",
   "execution_count": 8,
   "id": "8bfa6eca",
   "metadata": {},
   "outputs": [],
   "source": [
    "TP=len([x for x in results if x[1]]) / len(results)\n",
    "FN=1-TP"
   ]
  },
  {
   "cell_type": "code",
   "execution_count": 9,
   "id": "7e3a55fc",
   "metadata": {},
   "outputs": [
    {
     "data": {
      "text/plain": [
       "0.5934065934065934"
      ]
     },
     "execution_count": 9,
     "metadata": {},
     "output_type": "execute_result"
    }
   ],
   "source": [
    "TP"
   ]
  },
  {
   "cell_type": "code",
   "execution_count": 10,
   "id": "e41a2960",
   "metadata": {},
   "outputs": [
    {
     "data": {
      "text/plain": [
       "0.4065934065934066"
      ]
     },
     "execution_count": 10,
     "metadata": {},
     "output_type": "execute_result"
    }
   ],
   "source": [
    "FN"
   ]
  },
  {
   "cell_type": "code",
   "execution_count": 11,
   "id": "79e35911",
   "metadata": {},
   "outputs": [
    {
     "data": {
      "text/plain": [
       "55"
      ]
     },
     "execution_count": 11,
     "metadata": {},
     "output_type": "execute_result"
    }
   ],
   "source": [
    "len(list(BASE_PATH.iterdir()))"
   ]
  },
  {
   "cell_type": "code",
   "execution_count": 21,
   "id": "4e746ec5",
   "metadata": {},
   "outputs": [],
   "source": [
    "import random\n",
    "results_neg = []\n",
    "count = 0\n",
    "\n",
    "for person1 in BASE_PATH.iterdir():\n",
    "    random_people = list(BASE_PATH.iterdir())\n",
    "    random.shuffle(random_people)\n",
    "    i=0\n",
    "    for person2 in random_people:\n",
    "        if not person1.is_dir() or not person2.is_dir() or person1.name == person2.name or not person1.name.isalpha() or not person2.name.isalpha():\n",
    "            continue\n",
    "        count += 1\n",
    "        if count >= len(results):\n",
    "            break\n",
    "        index1 = index2 = 1\n",
    "        \n",
    "        path1 = BASE_PATH / person1.name / f'{person1.name}_{str(index1).rjust(4, \"0\")}.png'\n",
    "        path2 = BASE_PATH / person2.name / f'{person2.name}_{str(index2).rjust(4, \"0\")}.png'\n",
    "\n",
    "        try:\n",
    "            # read images\n",
    "            img1 = cv2.imread(str(path1))  \n",
    "            img2 = cv2.imread(str(path2))\n",
    "\n",
    "            img1 = cv2.cvtColor(img1, cv2.COLOR_BGR2GRAY)\n",
    "            img2 = cv2.cvtColor(img2, cv2.COLOR_BGR2GRAY)\n",
    "\n",
    "            #sift\n",
    "            sift = cv2.ORB_create(nfeatures=1500)\n",
    "\n",
    "            keypoints_1, descriptors_1 = sift.detectAndCompute(img1,None)\n",
    "            keypoints_2, descriptors_2 = sift.detectAndCompute(img2,None)\n",
    "\n",
    "            #feature matching\n",
    "            bf = cv2.BFMatcher()\n",
    "            k_matches = bf.knnMatch(descriptors_1,descriptors_2, k=2)\n",
    "            distance = cosine(descriptors_1[0], descriptors_2[0])\n",
    "            # Apply ratio test\n",
    "            good = []\n",
    "            for m,n in k_matches:\n",
    "                if m.distance < 0.75*n.distance:\n",
    "                    good.append([m])\n",
    "            a=len(good)\n",
    "            matched = a > 5 and distance < 0.3\n",
    "        except Exception as e:\n",
    "            print(e)\n",
    "            continue\n",
    "\n",
    "        results_neg.append([(person1, person2), matched, distance, a])"
   ]
  },
  {
   "cell_type": "code",
   "execution_count": 13,
   "id": "292ecad1",
   "metadata": {},
   "outputs": [],
   "source": [
    "FP=len([x for x in results_neg if x[1]]) / len(results_neg)\n",
    "TN=1-FP"
   ]
  },
  {
   "cell_type": "code",
   "execution_count": 14,
   "id": "fd915380",
   "metadata": {},
   "outputs": [
    {
     "data": {
      "text/plain": [
       "91"
      ]
     },
     "execution_count": 14,
     "metadata": {},
     "output_type": "execute_result"
    }
   ],
   "source": [
    "len(results)"
   ]
  },
  {
   "cell_type": "code",
   "execution_count": 15,
   "id": "51da7b36",
   "metadata": {},
   "outputs": [
    {
     "data": {
      "text/plain": [
       "90"
      ]
     },
     "execution_count": 15,
     "metadata": {},
     "output_type": "execute_result"
    }
   ],
   "source": [
    "len(results_neg)"
   ]
  },
  {
   "cell_type": "code",
   "execution_count": 22,
   "id": "3280b2d2",
   "metadata": {},
   "outputs": [
    {
     "data": {
      "image/png": "[encoded data removed]",
      "text/plain": [
       "<Figure size 432x288 with 2 Axes>"
      ]
     },
     "metadata": {},
     "output_type": "display_data"
    }
   ],
   "source": [
    "TP=len([x for x in results if x[1]]) / (len(results) + len(results_neg))\n",
    "FN=len([x for x in results if not x[1]]) / (len(results) + len(results_neg))\n",
    "FP=len([x for x in results_neg if x[1]]) / (len(results) + len(results_neg))\n",
    "TN=len([x for x in results_neg if not x[1]]) / (len(results) + len(results_neg))\n",
    "import seaborn as sn\n",
    "import pandas as pd\n",
    "import matplotlib.pyplot as plt\n",
    "\n",
    "array = [[TP,FN],\n",
    "         [FP,TN]]\n",
    "\n",
    "df_cm = pd.DataFrame(array, ['same', 'different'], ['verified', 'unverified'])\n",
    "# plt.figure(figsize=(10,7))\n",
    "sn.set(font_scale=1.4) # for label size\n",
    "sn.heatmap(df_cm, annot=True, annot_kws={\"size\": 16}) # font size\n",
    "\n",
    "plt.show()"
   ]
  },
  {
   "cell_type": "code",
   "execution_count": 23,
   "id": "1b3897a0",
   "metadata": {},
   "outputs": [
    {
     "data": {
      "text/plain": [
       "SVC()"
      ]
     },
     "execution_count": 23,
     "metadata": {},
     "output_type": "execute_result"
    }
   ],
   "source": [
    "from sklearn import svm\n",
    "X = [x[2] for x in results] + [x[2] for x in results_neg]\n",
    "y = [1 for x in results] + [0 for x in results_neg]\n",
    "clf = svm.SVC() #kernel=\"linear\")\n",
    "clf.fit(np.array(X).reshape(-1, 1), y)"
   ]
  },
  {
   "cell_type": "code",
   "execution_count": 24,
   "id": "a9a052ce",
   "metadata": {},
   "outputs": [],
   "source": [
    "ps=clf.predict(np.array([x[2] for x in results]).reshape(-1, 1))"
   ]
  },
  {
   "cell_type": "code",
   "execution_count": 25,
   "id": "7082502b",
   "metadata": {},
   "outputs": [
    {
     "data": {
      "text/plain": [
       "50"
      ]
     },
     "execution_count": 25,
     "metadata": {},
     "output_type": "execute_result"
    }
   ],
   "source": [
    "len([x for x in ps if x == 1])"
   ]
  },
  {
   "cell_type": "code",
   "execution_count": 26,
   "id": "1e8a2ef1",
   "metadata": {},
   "outputs": [],
   "source": [
    "ns=clf.predict(np.array([x[2] for x in results_neg]).reshape(-1, 1))"
   ]
  },
  {
   "cell_type": "code",
   "execution_count": 27,
   "id": "314f744d",
   "metadata": {},
   "outputs": [
    {
     "data": {
      "text/plain": [
       "array([9.43262619e-02, 1.14649820e-01, 3.48991025e-01, 1.18136309e-02,\n",
       "       3.70848001e-01, 2.44720194e-01, 1.20883477e-01, 3.50058599e-01,\n",
       "       7.04996595e-02, 5.19525530e-01, 1.34030440e-01, 5.93769566e-01,\n",
       "       3.15874657e-01, 7.19045670e-02, 4.96978703e-01, 3.33758599e-01,\n",
       "       4.18657490e-01, 1.35093838e-01, 7.90443401e-02, 1.62685131e-01,\n",
       "       5.88599582e-01, 1.10154033e-01, 2.15976272e-01, 2.99987517e-01,\n",
       "       1.19344548e-01, 1.13307481e-01, 1.06789096e-01, 2.96707038e-01,\n",
       "       4.90242230e-03, 1.53558415e-01, 2.18185862e-01, 1.40531432e-01,\n",
       "       3.58082090e-01, 6.89335950e-01, 2.43172160e-01, 3.63258465e-01,\n",
       "       1.65292786e-01, 2.87344122e-01, 3.02835314e-01, 3.02423821e-01,\n",
       "       8.56767821e-01, 1.34250436e-01, 1.84808942e-01, 3.22474084e-01,\n",
       "       9.16434579e-02, 4.54617386e-01, 4.33304620e-02, 5.22104002e-03,\n",
       "       2.45023916e-01, 7.09760225e-02, 4.67678162e-01, 1.71924808e-01,\n",
       "       6.45328015e-01, 1.38281276e-01, 2.10165378e-01, 6.12008568e-02,\n",
       "       5.50425750e-02, 1.42388491e-01, 5.08741777e-04, 5.04403077e-01,\n",
       "       1.15341518e-02, 2.98657845e-01, 6.52469911e-01, 3.76725571e-01,\n",
       "       2.58464920e-01, 7.30127856e-02, 2.51271129e-01, 9.41802507e-04,\n",
       "       5.57122883e-01, 1.96296766e-02, 4.65453318e-01, 3.55677847e-01,\n",
       "       2.72541470e-01, 2.35172990e-01, 1.20232686e-01, 2.77050914e-03,\n",
       "       7.02003022e-02, 3.48071083e-01, 3.01135178e-01, 8.53708534e-02,\n",
       "       4.33741857e-01, 2.93165665e-01, 3.70016529e-01, 7.22373021e-02,\n",
       "       1.27381615e-01, 1.38586361e-01, 8.14366997e-02, 4.20049609e-01,\n",
       "       1.87621482e-01, 5.43314089e-03, 3.80337999e-02, 1.31521162e-01,\n",
       "       4.04492846e-01, 3.68152753e-02, 2.14809037e-01, 7.23084431e-02,\n",
       "       2.93410355e-01, 1.23725160e-01, 7.22555708e-03, 2.44057860e-01,\n",
       "       3.09423213e-01, 2.66758546e-01, 1.32244126e-01, 8.80280939e-02,\n",
       "       1.70795268e-03, 2.28183170e-01, 1.37620659e-01, 2.74993376e-03,\n",
       "       1.32180620e-01, 2.94841143e-01, 2.66543557e-01, 2.10913839e-01,\n",
       "       4.91620560e-01, 1.35217998e-01, 2.28825177e-01, 1.11604985e-01,\n",
       "       1.48486496e-01, 1.36804450e-01, 4.49156278e-01, 1.01890209e-01,\n",
       "       5.99716942e-02, 1.66356372e-01, 1.44923973e-01, 1.05932152e-01,\n",
       "       1.37570941e-01, 1.67435781e-01, 4.87654058e-01, 3.39041445e-01,\n",
       "       1.06346388e-01, 1.21875679e-01, 2.92451236e-02, 1.40728373e-01,\n",
       "       4.11137952e-02, 2.82891415e-01, 1.14495538e-01, 2.24555392e-01,\n",
       "       3.40052659e-01, 1.30057080e-01, 8.08535634e-02, 2.27116842e-01,\n",
       "       2.76134055e-01, 4.99363591e-02, 1.57439983e-01, 4.42012006e-01,\n",
       "       2.25965954e-01, 3.57737111e-01, 2.18572198e-01, 1.95453766e-01,\n",
       "       3.78307965e-01, 5.11056997e-01, 3.86671367e-01, 5.28076073e-02,\n",
       "       2.95084518e-01, 4.56844531e-01, 2.84213204e-01, 1.83774235e-01,\n",
       "       1.05576952e-01, 3.02967474e-01, 5.08556198e-01, 4.89881037e-01,\n",
       "       3.05694031e-01, 4.25261556e-01, 2.74549785e-01, 6.95958224e-02,\n",
       "       3.10063341e-01, 9.05026485e-02, 3.86168704e-01, 1.66068135e-01,\n",
       "       6.90100731e-01, 1.20050637e-02, 2.84064403e-01, 1.19823033e-01,\n",
       "       4.18807316e-01, 3.84081510e-01, 1.32180620e-01, 2.73949649e-01,\n",
       "       2.69780645e-01, 2.42509486e-01, 1.64755923e-01, 2.86833470e-01,\n",
       "       1.94094863e-01])"
      ]
     },
     "execution_count": 27,
     "metadata": {},
     "output_type": "execute_result"
    }
   ],
   "source": [
    "np.array([x[2] for x in results + results_neg])"
   ]
  },
  {
   "cell_type": "code",
   "execution_count": 28,
   "id": "6c7f9260",
   "metadata": {},
   "outputs": [
    {
     "data": {
      "text/plain": [
       "41"
      ]
     },
     "execution_count": 28,
     "metadata": {},
     "output_type": "execute_result"
    }
   ],
   "source": [
    "len([x for x in ps if x == 0])"
   ]
  },
  {
   "cell_type": "code",
   "execution_count": 29,
   "id": "143a17ac",
   "metadata": {},
   "outputs": [
    {
     "data": {
      "text/plain": [
       "91"
      ]
     },
     "execution_count": 29,
     "metadata": {},
     "output_type": "execute_result"
    }
   ],
   "source": [
    "len(ps)"
   ]
  },
  {
   "cell_type": "code",
   "execution_count": 30,
   "id": "3c533a15",
   "metadata": {},
   "outputs": [
    {
     "data": {
      "image/png": "[encoded data removed]",
      "text/plain": [
       "<Figure size 432x288 with 2 Axes>"
      ]
     },
     "metadata": {},
     "output_type": "display_data"
    }
   ],
   "source": [
    "TP=len([x for x in ps if x]) / (len(results) + len(results_neg))\n",
    "FN=len([x for x in ps if not x]) / (len(results) + len(results_neg))\n",
    "FP=len([x for x in ns if x]) / (len(results) + len(results_neg))\n",
    "TN=len([x for x in ns if not x]) / (len(results) + len(results_neg))\n",
    "import seaborn as sn\n",
    "import pandas as pd\n",
    "import matplotlib.pyplot as plt\n",
    "\n",
    "array = [[TP,FN],\n",
    "         [FP,TN]]\n",
    "\n",
    "df_cm = pd.DataFrame(array, ['same', 'different'], ['verified', 'unverified'])\n",
    "# plt.figure(figsize=(10,7))\n",
    "sn.set(font_scale=1.4) # for label size\n",
    "sn.heatmap(df_cm, annot=True, annot_kws={\"size\": 16}) # font size\n",
    "\n",
    "plt.show()"
   ]
  },
  {
   "cell_type": "code",
   "execution_count": 25,
   "id": "9523ea1c",
   "metadata": {},
   "outputs": [
    {
     "data": {
      "text/plain": [
       "0.46408839779005523"
      ]
     },
     "execution_count": 25,
     "metadata": {},
     "output_type": "execute_result"
    }
   ],
   "source": [
    "TP"
   ]
  },
  {
   "cell_type": "code",
   "execution_count": 26,
   "id": "e6c23ae4",
   "metadata": {},
   "outputs": [
    {
     "data": {
      "text/plain": [
       "0.03867403314917127"
      ]
     },
     "execution_count": 26,
     "metadata": {},
     "output_type": "execute_result"
    }
   ],
   "source": [
    "FN"
   ]
  },
  {
   "cell_type": "code",
   "execution_count": 27,
   "id": "38a5256f",
   "metadata": {},
   "outputs": [
    {
     "data": {
      "text/plain": [
       "0.03867403314917127"
      ]
     },
     "execution_count": 27,
     "metadata": {},
     "output_type": "execute_result"
    }
   ],
   "source": [
    "FP"
   ]
  },
  {
   "cell_type": "code",
   "execution_count": 28,
   "id": "2f5ab3ba",
   "metadata": {},
   "outputs": [
    {
     "data": {
      "text/plain": [
       "181"
      ]
     },
     "execution_count": 28,
     "metadata": {},
     "output_type": "execute_result"
    }
   ],
   "source": [
    "len(results) + len(results_neg)"
   ]
  },
  {
   "cell_type": "code",
   "execution_count": 29,
   "id": "0e29c734",
   "metadata": {},
   "outputs": [
    {
     "data": {
      "text/plain": [
       "[(0.59, array([1])),\n",
       " (0.591, array([1])),\n",
       " (0.592, array([1])),\n",
       " (0.593, array([1])),\n",
       " (0.594, array([1])),\n",
       " (0.595, array([1])),\n",
       " (0.596, array([1])),\n",
       " (0.597, array([1])),\n",
       " (0.598, array([1])),\n",
       " (0.599, array([1]))]"
      ]
     },
     "execution_count": 29,
     "metadata": {},
     "output_type": "execute_result"
    }
   ],
   "source": [
    "[(0.59+x/1000,clf.predict(np.array(0.59+x/1000).reshape(-1, 1))) for x in range(10)]"
   ]
  },
  {
   "cell_type": "code",
   "execution_count": 31,
   "id": "309d6b64",
   "metadata": {},
   "outputs": [],
   "source": [
    "import seaborn as sns"
   ]
  },
  {
   "cell_type": "code",
   "execution_count": 32,
   "id": "da16b27e",
   "metadata": {},
   "outputs": [
    {
     "data": {
      "text/plain": [
       "<AxesSubplot:xlabel='distance', ylabel='Percent'>"
      ]
     },
     "execution_count": 32,
     "metadata": {},
     "output_type": "execute_result"
    },
    {
     "data": {
      "image/png": "[encoded data removed]",
      "text/plain": [
       "<Figure size 432x288 with 1 Axes>"
      ]
     },
     "metadata": {},
     "output_type": "display_data"
    }
   ],
   "source": [
    "total_results = pd.DataFrame(data=[(x[2],\"positive\") for x in results]+[(x[2],\"negative\") for x in results_neg], columns=[\"distance\", \"type\"])\n",
    "sns.histplot(total_results, x='distance', hue='type', element='step', kde=True, stat='percent')"
   ]
  },
  {
   "cell_type": "code",
   "execution_count": 33,
   "id": "71939331",
   "metadata": {},
   "outputs": [
    {
     "data": {
      "text/plain": [
       "<AxesSubplot:xlabel='distance', ylabel='Percent'>"
      ]
     },
     "execution_count": 33,
     "metadata": {},
     "output_type": "execute_result"
    },
    {
     "data": {
      "image/png": "[encoded data removed]",
      "text/plain": [
       "<Figure size 432x288 with 1 Axes>"
      ]
     },
     "metadata": {},
     "output_type": "display_data"
    }
   ],
   "source": [
    "total_results = pd.DataFrame(data=[(x[3],\"positive\") for x in results]+[(x[3],\"negative\") for x in results_neg], columns=[\"distance\", \"type\"])\n",
    "sns.histplot(total_results, x='distance', hue='type', element='step', kde=True, stat='percent')"
   ]
  },
  {
   "cell_type": "code",
   "execution_count": null,
   "id": "db65c1a6",
   "metadata": {},
   "outputs": [],
   "source": []
  },
  {
   "cell_type": "code",
   "execution_count": null,
   "id": "7d6817ac",
   "metadata": {},
   "outputs": [],
   "source": []
  },
  {
   "cell_type": "code",
   "execution_count": null,
   "id": "d401b728",
   "metadata": {},
   "outputs": [],
   "source": []
  }
 ],
 "metadata": {
  "kernelspec": {
   "display_name": "Python 3 (ipykernel)",
   "language": "python",
   "name": "python3"
  },
  "language_info": {
   "codemirror_mode": {
    "name": "ipython",
    "version": 3
   },
   "file_extension": ".py",
   "mimetype": "text/x-python",
   "name": "python",
   "nbconvert_exporter": "python",
   "pygments_lexer": "ipython3",
   "version": "3.9.7"
  }
 },
 "nbformat": 4,
 "nbformat_minor": 5
}
