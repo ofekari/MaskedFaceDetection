{
 "cells": [
  {
   "cell_type": "markdown",
   "id": "67955964",
   "metadata": {},
   "source": [
    "# MaskedFaceRecognition\n",
    "## Abstract\n",
    "This research is trying to analyze masked faces of subjects, and recognize them based on unmasked faces. We will use known face datasets and using Mask Adding algorithm, In aiming to make a new algorithm that will approve the connection between masked faces to unmasked.\n",
    "\n",
    "## The problem\n",
    "Nowadays, face recognition is a popular way of authentication. It is widely used in our every day with ways of accessing our phone by showing our face to the camera to match against our predefined access list or even crossing the border to match our passport's photo.\n",
    "\n",
    "The ongoing COVID-19 pandemic has led us all to use face masks on a daily basis as a way to prevent the spread of the disease, which is highly contagious and airborne. But unfortunately, this practice has broken the worldwide face recognition algorithms which use features from all around our faces to identify us and prevents us from using face recognition in public.\n",
    "\n",
    "With that, the need for algorithms that can recognize faces with masks, mainly for public usage, has grown rapidly. Moreover, the algorithms should work with the variety of face masks available today.\n",
    "\n",
    "## The solution\n",
    "The solution of an al\n",
    "\n",
    "validation of persion with partial visibility? (robbery, etc.)"
   ]
  },
  {
   "cell_type": "markdown",
   "id": "ec031450",
   "metadata": {},
   "source": [
    "# The data\n",
    "## Initial data\n",
    "Public dataset of faces:\n",
    "Dataset Subjects (Img/Video) Img. per sub. Annotations Curated Year\n",
    "CASIA [16] 10,575 494,414/– 46 ✗ ✓ 2014\n",
    "VGGFace [18] 2,622 2.6M/– 1,000 box, pose ✗ 2015\n",
    "UMDFaces [19] 8,277 367K/22K 45 keypts, pose, gender ✓ 2016\n",
    "MS-Celeb-1M [20] 100K 10M/– 100 box ✗ 2016\n",
    "VGGFace2 [21] 9,131 3.31M/– 362.6 pose, age ✓ 2017\n",
    "IMDb-Face [22] 1.7M 59K/– 28.8 pose, age ✓ 2018\n",
    "## Make masked dataset\n",
    "Use facial features to apply a face mask overlay to the dataset:\n",
    "https://github.com/xictus77/Facial-mask-overlay-with-OpenCV-Dlib (https://medium.com/mlearning-ai/facial-mask-overlay-with-opencv-dlib-4d948964cc4d)\n",
    "OR\n",
    "https://learnopencv.com/using-facial-landmarks-for-overlaying-faces-with-masks/\n",
    "\n",
    "## Pre-processing\n",
    "alignment (to make the model better)?\n",
    "augmentation (to make more data)?\n",
    ".."
   ]
  },
  {
   "cell_type": "markdown",
   "id": "652592b0",
   "metadata": {},
   "source": [
    "# The algorithm\n",
    "## Variaty of algorithms\n",
    "architectures of NN models\n",
    "SVM?\n",
    "Naive bayes?\n",
    "..\n",
    "## Usage\n",
    "Usage of the algorithms in code\n"
   ]
  },
  {
   "cell_type": "markdown",
   "id": "26e33adc",
   "metadata": {},
   "source": [
    "# The results\n",
    "## Analysis\n",
    "todo\n",
    "## Comparison\n",
    "todo\n",
    "## Causes and improvements\n",
    "todo"
   ]
  },
  {
   "cell_type": "markdown",
   "id": "b60fd7cc",
   "metadata": {},
   "source": [
    "# Conclusions\n",
    "## Summarized results\n",
    "todo\n",
    "## Software insights\n",
    "todo\n",
    "## Hardware insights\n",
    "todo\n",
    "## Workspace insights\n",
    "todo\n",
    "## Academic insights\n",
    "todo"
   ]
  },
  {
   "cell_type": "code",
   "execution_count": null,
   "id": "2641202a",
   "metadata": {},
   "outputs": [],
   "source": []
  }
 ],
 "metadata": {
  "kernelspec": {
   "display_name": "Python 3 (ipykernel)",
   "language": "python",
   "name": "python3"
  },
  "language_info": {
   "codemirror_mode": {
    "name": "ipython",
    "version": 3
   },
   "file_extension": ".py",
   "mimetype": "text/x-python",
   "name": "python",
   "nbconvert_exporter": "python",
   "pygments_lexer": "ipython3",
   "version": "3.9.7"
  }
 },
 "nbformat": 4,
 "nbformat_minor": 5
}
