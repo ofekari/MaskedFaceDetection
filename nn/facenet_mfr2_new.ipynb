{
 "cells": [
  {
   "cell_type": "code",
   "execution_count": 1,
   "id": "bc19593e",
   "metadata": {},
   "outputs": [],
   "source": [
    "from keras.models import model_from_json\n",
    "from inception_resnet_v1 import *\n",
    "import numpy as np\n",
    "\n",
    "from keras.models import Sequential\n",
    "from keras.models import load_model\n",
    "from keras.models import model_from_json\n",
    "from keras.layers.core import Dense, Activation\n",
    "from keras.utils import np_utils\n",
    "\n",
    "from keras.preprocessing.image import load_img, save_img, img_to_array\n",
    "from keras.applications.imagenet_utils import preprocess_input\n",
    "\n",
    "import matplotlib.pyplot as plt\n",
    "from keras.preprocessing import image\n",
    "\n",
    "import pathlib\n",
    "import pandas as pd\n",
    "\n",
    "def l2_normalize(x):\n",
    "    return x / np.sqrt(np.sum(np.multiply(x, x)))\n",
    "\n",
    "def findEuclideanDistance(source_representation, test_representation):\n",
    "    euclidean_distance = source_representation - test_representation\n",
    "    euclidean_distance = np.sum(np.multiply(euclidean_distance, euclidean_distance))\n",
    "    euclidean_distance = np.sqrt(euclidean_distance)\n",
    "    return euclidean_distance\n",
    "\n",
    "def preprocess_image(image_path):\n",
    "    img = load_img(image_path, target_size=(160, 160))\n",
    "    img = img_to_array(img)\n",
    "    img = np.expand_dims(img, axis=0)\n",
    "    img = preprocess_input(img)\n",
    "    return img\n",
    "\n",
    "model = InceptionResNetV1()"
   ]
  },
  {
   "cell_type": "code",
   "execution_count": null,
   "id": "554cc3e2",
   "metadata": {},
   "outputs": [],
   "source": []
  },
  {
   "cell_type": "code",
   "execution_count": 2,
   "id": "78dff1e9",
   "metadata": {},
   "outputs": [],
   "source": [
    "BASE_PATH = pathlib.Path('../data/mfr2')\n",
    "labels_path = BASE_PATH / 'mfr2_labels.txt'\n",
    "pairs_path = BASE_PATH / 'pairs.txt'"
   ]
  },
  {
   "cell_type": "code",
   "execution_count": 3,
   "id": "f10eb0b2",
   "metadata": {},
   "outputs": [],
   "source": [
    "labels=pd.read_csv(filepath_or_buffer=str(labels_path))\n",
    "labels=labels.apply(lambda x: x.apply(lambda y: y.strip() if type(y) == type('') else y), axis=0)\n",
    "people=labels[\"person\"].unique()\n",
    "\n",
    "def get_indexes(person, mask=True):\n",
    "    if mask:\n",
    "        mask_filter = labels[\"mask\"]!=\"no-mask\"\n",
    "    else:\n",
    "        mask_filter = labels[\"mask\"]==\"no-mask\"\n",
    "    person_filter = labels[\"person\"]==person\n",
    "    return list(labels[person_filter & mask_filter][\"index\"])\n",
    "\n",
    "pairs={person:list(zip(get_indexes(person,mask=True), get_indexes(person, mask=False))) for person in people}"
   ]
  },
  {
   "cell_type": "code",
   "execution_count": 4,
   "id": "4573aa2d",
   "metadata": {},
   "outputs": [],
   "source": [
    "# with pairs_path.open() as f:\n",
    "#     pairs_data = [l.strip().split(' ') for l in f.readlines() if l.strip()]\n",
    "\n",
    "# pairs = []\n",
    "# for pair_data in pairs_data:\n",
    "#     if len(pair_data) == 3:\n",
    "#         pairs.append(((pair_data[0], pair_data[1]), (pair_data[0], pair_data[2])))\n",
    "#     elif len(pair_data) == 4:\n",
    "#         pairs.append(((pair_data[0], pair_data[1]), (pair_data[2], pair_data[3])))\n",
    "#     else:\n",
    "#         print('wtf', pair_data)"
   ]
  },
  {
   "cell_type": "code",
   "execution_count": 5,
   "id": "91f76362",
   "metadata": {},
   "outputs": [
    {
     "name": "stdout",
     "output_type": "stream",
     "text": [
      "verified... they are same person\n",
      "verified... they are same person\n",
      "verified... they are same person\n",
      "verified... they are same person\n",
      "verified... they are same person\n",
      "verified... they are same person\n",
      "verified... they are same person\n",
      "verified... they are same person\n",
      "verified... they are same person\n",
      "verified... they are same person\n",
      "verified... they are same person\n",
      "verified... they are same person\n",
      "verified... they are same person\n",
      "verified... they are same person\n",
      "verified... they are same person\n",
      "verified... they are same person\n",
      "verified... they are same person\n",
      "verified... they are same person\n",
      "verified... they are same person\n",
      "verified... they are same person\n",
      "verified... they are same person\n",
      "verified... they are same person\n",
      "verified... they are same person\n",
      "verified... they are same person\n",
      "verified... they are same person\n",
      "verified... they are same person\n",
      "verified... they are same person\n",
      "verified... they are same person\n",
      "verified... they are same person\n",
      "verified... they are same person\n",
      "verified... they are same person\n",
      "verified... they are same person\n",
      "verified... they are same person\n",
      "verified... they are same person\n",
      "verified... they are same person\n",
      "verified... they are same person\n",
      "verified... they are same person\n",
      "verified... they are same person\n",
      "verified... they are same person\n",
      "verified... they are same person\n",
      "verified... they are same person\n",
      "verified... they are same person\n",
      "verified... they are same person\n",
      "verified... they are same person\n",
      "verified... they are same person\n",
      "verified... they are same person\n",
      "verified... they are same person\n",
      "verified... they are same person\n",
      "verified... they are same person\n",
      "verified... they are same person\n",
      "verified... they are same person\n",
      "verified... they are same person\n",
      "verified... they are same person\n",
      "verified... they are same person\n",
      "verified... they are same person\n",
      "verified... they are same person\n",
      "verified... they are same person\n",
      "verified... they are same person\n",
      "verified... they are same person\n",
      "verified... they are same person\n",
      "verified... they are same person\n",
      "verified... they are same person\n",
      "verified... they are same person\n",
      "verified... they are same person\n",
      "verified... they are same person\n",
      "verified... they are same person\n",
      "verified... they are same person\n",
      "verified... they are same person\n",
      "verified... they are same person\n",
      "verified... they are same person\n",
      "unverified! they are not same person!\n",
      "verified... they are same person\n",
      "verified... they are same person\n",
      "verified... they are same person\n",
      "verified... they are same person\n",
      "verified... they are same person\n",
      "verified... they are same person\n",
      "verified... they are same person\n",
      "verified... they are same person\n",
      "verified... they are same person\n",
      "verified... they are same person\n",
      "verified... they are same person\n",
      "verified... they are same person\n",
      "verified... they are same person\n",
      "verified... they are same person\n",
      "verified... they are same person\n",
      "verified... they are same person\n",
      "verified... they are same person\n",
      "verified... they are same person\n",
      "verified... they are same person\n",
      "verified... they are same person\n"
     ]
    }
   ],
   "source": [
    "results = []\n",
    "threshold = 0.35\n",
    "\n",
    "# positive test\n",
    "for person, pairs in pairs.items():\n",
    "    for index1, index2 in pairs:\n",
    "        path1 = BASE_PATH / person / f'{person}_{str(index1).rjust(4, \"0\")}.png'\n",
    "        path2 = BASE_PATH / person / f'{person}_{str(index2).rjust(4, \"0\")}.png'\n",
    "        \n",
    "        features1 = l2_normalize(model.predict(preprocess_image(path1)))\n",
    "        features2 = l2_normalize(model.predict(preprocess_image(path2)))\n",
    "\n",
    "        distance = findEuclideanDistance(features1, features2)\n",
    "        matched = distance < threshold\n",
    "        if matched:\n",
    "            print(\"verified... they are same person\")\n",
    "        else:\n",
    "            print(\"unverified! they are not same person!\")\n",
    "        \n",
    "        results.append([(person, index1, index2), matched, distance])"
   ]
  },
  {
   "cell_type": "code",
   "execution_count": 6,
   "id": "1c72fc47",
   "metadata": {},
   "outputs": [],
   "source": [
    "# results = []\n",
    "\n",
    "# # positive test\n",
    "# for pair in pairs:\n",
    "#     (person1,index1),(person2,index2) = pair\n",
    "#     path1 = BASE_PATH / person1 / f'{person1}_{str(index1).rjust(4, \"0\")}.png'\n",
    "#     path2 = BASE_PATH / person2 / f'{person2}_{str(index2).rjust(4, \"0\")}.png'\n",
    "    \n",
    "# #     try:\n",
    "#     features1,features2=get_embeddings([path1, path2])\n",
    "#     matched, distance = is_match(features1, features2)\n",
    "# #     except Exception as e:\n",
    "# #         print(e)\n",
    "# #         continue\n",
    "    \n",
    "#     results.append([pair, matched, distance])"
   ]
  },
  {
   "cell_type": "code",
   "execution_count": 7,
   "id": "8bfa6eca",
   "metadata": {},
   "outputs": [],
   "source": [
    "TP=len([x for x in results if x[1]]) / len(results)\n",
    "FN=1-TP"
   ]
  },
  {
   "cell_type": "code",
   "execution_count": 8,
   "id": "7e3a55fc",
   "metadata": {},
   "outputs": [
    {
     "data": {
      "text/plain": [
       "0.989010989010989"
      ]
     },
     "execution_count": 8,
     "metadata": {},
     "output_type": "execute_result"
    }
   ],
   "source": [
    "TP"
   ]
  },
  {
   "cell_type": "code",
   "execution_count": 9,
   "id": "e41a2960",
   "metadata": {},
   "outputs": [
    {
     "data": {
      "text/plain": [
       "0.01098901098901095"
      ]
     },
     "execution_count": 9,
     "metadata": {},
     "output_type": "execute_result"
    }
   ],
   "source": [
    "FN"
   ]
  },
  {
   "cell_type": "code",
   "execution_count": 10,
   "id": "79e35911",
   "metadata": {},
   "outputs": [
    {
     "data": {
      "text/plain": [
       "55"
      ]
     },
     "execution_count": 10,
     "metadata": {},
     "output_type": "execute_result"
    }
   ],
   "source": [
    "len(list(BASE_PATH.iterdir()))"
   ]
  },
  {
   "cell_type": "code",
   "execution_count": 11,
   "id": "4e746ec5",
   "metadata": {},
   "outputs": [
    {
     "name": "stdout",
     "output_type": "stream",
     "text": [
      "verified... they are same person\n",
      "verified... they are same person\n",
      "verified... they are same person\n",
      "verified... they are same person\n",
      "verified... they are same person\n",
      "verified... they are same person\n",
      "verified... they are same person\n",
      "verified... they are same person\n",
      "unverified! they are not same person!\n",
      "verified... they are same person\n",
      "verified... they are same person\n",
      "verified... they are same person\n",
      "verified... they are same person\n",
      "verified... they are same person\n",
      "verified... they are same person\n",
      "verified... they are same person\n",
      "verified... they are same person\n",
      "verified... they are same person\n",
      "verified... they are same person\n",
      "verified... they are same person\n",
      "verified... they are same person\n",
      "verified... they are same person\n",
      "verified... they are same person\n",
      "verified... they are same person\n",
      "verified... they are same person\n",
      "verified... they are same person\n",
      "verified... they are same person\n",
      "verified... they are same person\n",
      "verified... they are same person\n",
      "verified... they are same person\n",
      "verified... they are same person\n",
      "verified... they are same person\n",
      "verified... they are same person\n",
      "verified... they are same person\n",
      "verified... they are same person\n",
      "verified... they are same person\n",
      "verified... they are same person\n",
      "verified... they are same person\n",
      "verified... they are same person\n",
      "verified... they are same person\n",
      "verified... they are same person\n",
      "verified... they are same person\n",
      "verified... they are same person\n",
      "verified... they are same person\n",
      "verified... they are same person\n",
      "verified... they are same person\n",
      "verified... they are same person\n",
      "verified... they are same person\n",
      "verified... they are same person\n",
      "verified... they are same person\n",
      "verified... they are same person\n",
      "verified... they are same person\n",
      "verified... they are same person\n",
      "verified... they are same person\n",
      "verified... they are same person\n",
      "verified... they are same person\n",
      "verified... they are same person\n",
      "verified... they are same person\n",
      "verified... they are same person\n",
      "verified... they are same person\n",
      "verified... they are same person\n",
      "verified... they are same person\n",
      "verified... they are same person\n",
      "verified... they are same person\n",
      "verified... they are same person\n",
      "verified... they are same person\n",
      "verified... they are same person\n",
      "verified... they are same person\n",
      "verified... they are same person\n",
      "verified... they are same person\n",
      "verified... they are same person\n",
      "verified... they are same person\n",
      "verified... they are same person\n",
      "verified... they are same person\n",
      "verified... they are same person\n",
      "verified... they are same person\n",
      "verified... they are same person\n",
      "verified... they are same person\n",
      "verified... they are same person\n",
      "verified... they are same person\n",
      "verified... they are same person\n",
      "verified... they are same person\n",
      "verified... they are same person\n",
      "verified... they are same person\n",
      "verified... they are same person\n",
      "verified... they are same person\n",
      "verified... they are same person\n",
      "verified... they are same person\n",
      "unverified! they are not same person!\n",
      "verified... they are same person\n"
     ]
    }
   ],
   "source": [
    "import random\n",
    "results_neg = []\n",
    "count = 0\n",
    "\n",
    "for person1 in BASE_PATH.iterdir():\n",
    "    random_people = list(BASE_PATH.iterdir())\n",
    "    random.shuffle(random_people)\n",
    "    i=0\n",
    "    for person2 in random_people:\n",
    "        if not person1.is_dir() or not person2.is_dir() or person1.name == person2.name or not person1.name.isalpha() or not person2.name.isalpha():\n",
    "            continue\n",
    "        count += 1\n",
    "        if count >= len(results):\n",
    "            break\n",
    "        index1 = index2 = 1\n",
    "        \n",
    "        path1 = BASE_PATH / person1.name / f'{person1.name}_{str(index1).rjust(4, \"0\")}.png'\n",
    "        path2 = BASE_PATH / person2.name / f'{person2.name}_{str(index2).rjust(4, \"0\")}.png'\n",
    "\n",
    "        features1 = l2_normalize(model.predict(preprocess_image(path1)))\n",
    "        features2 = l2_normalize(model.predict(preprocess_image(path2)))\n",
    "\n",
    "        distance = findEuclideanDistance(features1, features2)\n",
    "        matched = distance < threshold\n",
    "        if matched:\n",
    "            print(\"verified... they are same person\")\n",
    "        else:\n",
    "            print(\"unverified! they are not same person!\")\n",
    "\n",
    "        results_neg.append([(person1, person2), matched, distance])\n",
    "        i+=1\n",
    "        if i == 2:\n",
    "            break"
   ]
  },
  {
   "cell_type": "code",
   "execution_count": 12,
   "id": "292ecad1",
   "metadata": {},
   "outputs": [],
   "source": [
    "FP=len([x for x in results_neg if x[1]]) / len(results_neg)\n",
    "TN=1-FP"
   ]
  },
  {
   "cell_type": "code",
   "execution_count": 13,
   "id": "fd915380",
   "metadata": {},
   "outputs": [
    {
     "data": {
      "text/plain": [
       "91"
      ]
     },
     "execution_count": 13,
     "metadata": {},
     "output_type": "execute_result"
    }
   ],
   "source": [
    "len(results)"
   ]
  },
  {
   "cell_type": "code",
   "execution_count": 14,
   "id": "51da7b36",
   "metadata": {},
   "outputs": [
    {
     "data": {
      "text/plain": [
       "90"
      ]
     },
     "execution_count": 14,
     "metadata": {},
     "output_type": "execute_result"
    }
   ],
   "source": [
    "len(results_neg)"
   ]
  },
  {
   "cell_type": "code",
   "execution_count": 15,
   "id": "3280b2d2",
   "metadata": {},
   "outputs": [
    {
     "data": {
      "image/png": "[encoded data removed]",
      "text/plain": [
       "<Figure size 432x288 with 2 Axes>"
      ]
     },
     "metadata": {},
     "output_type": "display_data"
    }
   ],
   "source": [
    "TP=len([x for x in results if x[1]]) / (len(results) + len(results_neg))\n",
    "FN=len([x for x in results if not x[1]]) / (len(results) + len(results_neg))\n",
    "FP=len([x for x in results_neg if x[1]]) / (len(results) + len(results_neg))\n",
    "TN=len([x for x in results_neg if not x[1]]) / (len(results) + len(results_neg))\n",
    "import seaborn as sn\n",
    "import pandas as pd\n",
    "import matplotlib.pyplot as plt\n",
    "\n",
    "array = [[TP,FN],\n",
    "         [FP,TN]]\n",
    "\n",
    "df_cm = pd.DataFrame(array, ['same', 'different'], ['verified', 'unverified'])\n",
    "# plt.figure(figsize=(10,7))\n",
    "sn.set(font_scale=1.4) # for label size\n",
    "sn.heatmap(df_cm, annot=True, annot_kws={\"size\": 16}) # font size\n",
    "\n",
    "plt.show()"
   ]
  },
  {
   "cell_type": "code",
   "execution_count": 16,
   "id": "1b3897a0",
   "metadata": {},
   "outputs": [
    {
     "data": {
      "text/plain": [
       "SVC()"
      ]
     },
     "execution_count": 16,
     "metadata": {},
     "output_type": "execute_result"
    }
   ],
   "source": [
    "from sklearn import svm\n",
    "X = [x[2] for x in results] + [x[2] for x in results_neg]\n",
    "y = [1 for x in results] + [0 for x in results_neg]\n",
    "clf = svm.SVC() #kernel=\"linear\")\n",
    "clf.fit(np.array(X).reshape(-1, 1), y)"
   ]
  },
  {
   "cell_type": "code",
   "execution_count": 17,
   "id": "a9a052ce",
   "metadata": {},
   "outputs": [],
   "source": [
    "ps=clf.predict(np.array([x[2] for x in results]).reshape(-1, 1))"
   ]
  },
  {
   "cell_type": "code",
   "execution_count": 18,
   "id": "7082502b",
   "metadata": {},
   "outputs": [
    {
     "data": {
      "text/plain": [
       "39"
      ]
     },
     "execution_count": 18,
     "metadata": {},
     "output_type": "execute_result"
    }
   ],
   "source": [
    "len([x for x in ps if x == 1])"
   ]
  },
  {
   "cell_type": "code",
   "execution_count": 19,
   "id": "1e8a2ef1",
   "metadata": {},
   "outputs": [],
   "source": [
    "ns=clf.predict(np.array([x[2] for x in results_neg]).reshape(-1, 1))"
   ]
  },
  {
   "cell_type": "code",
   "execution_count": 20,
   "id": "314f744d",
   "metadata": {},
   "outputs": [
    {
     "data": {
      "text/plain": [
       "array([0.12128817, 0.11884253, 0.1185279 , 0.1173823 , 0.13029821,\n",
       "       0.13722067, 0.14393842, 0.24276662, 0.22970341, 0.15951675,\n",
       "       0.28653076, 0.14130609, 0.20808691, 0.16762201, 0.2076459 ,\n",
       "       0.25014418, 0.14808138, 0.21893264, 0.17740707, 0.08209834,\n",
       "       0.10915806, 0.1819173 , 0.16599368, 0.15415496, 0.22037074,\n",
       "       0.25878727, 0.12599263, 0.15663598, 0.21111558, 0.1914298 ,\n",
       "       0.2206363 , 0.1892628 , 0.16829064, 0.19429894, 0.24872167,\n",
       "       0.09208491, 0.12044472, 0.10053351, 0.13242225, 0.10479463,\n",
       "       0.12927411, 0.09465121, 0.09837946, 0.10867098, 0.12115471,\n",
       "       0.31186363, 0.16634837, 0.12649994, 0.1884564 , 0.15997118,\n",
       "       0.14360115, 0.24196808, 0.15388682, 0.14043634, 0.09712844,\n",
       "       0.23704872, 0.12524374, 0.1605083 , 0.19542657, 0.1778865 ,\n",
       "       0.18318008, 0.2209672 , 0.13192569, 0.14966194, 0.1797214 ,\n",
       "       0.11548324, 0.13247912, 0.26899183, 0.14961557, 0.29407665,\n",
       "       0.4305719 , 0.19593368, 0.19392398, 0.20149262, 0.17288218,\n",
       "       0.20237052, 0.12222058, 0.20109534, 0.15510704, 0.12093755,\n",
       "       0.26908547, 0.10410685, 0.13205424, 0.1156201 , 0.1561728 ,\n",
       "       0.11734855, 0.08434466, 0.09159618, 0.2473867 , 0.13574155,\n",
       "       0.16425186, 0.22751302, 0.14928408, 0.2448167 , 0.24792159,\n",
       "       0.30888328, 0.18245232, 0.14553274, 0.11686675, 0.41544345,\n",
       "       0.26871407, 0.29719102, 0.21104506, 0.20494492, 0.0982543 ,\n",
       "       0.19228604, 0.123983  , 0.11820991, 0.2318168 , 0.12828736,\n",
       "       0.24369691, 0.18137193, 0.19216016, 0.23761703, 0.30047885,\n",
       "       0.1210231 , 0.18323702, 0.2260289 , 0.14459749, 0.21307614,\n",
       "       0.30481488, 0.12241444, 0.25525457, 0.10870639, 0.1508272 ,\n",
       "       0.13056798, 0.12060632, 0.1469932 , 0.16677028, 0.10993595,\n",
       "       0.14228095, 0.09599587, 0.07951511, 0.16700923, 0.14365277,\n",
       "       0.16392303, 0.15388218, 0.18098636, 0.21415922, 0.14025195,\n",
       "       0.1317711 , 0.14759016, 0.12063734, 0.13110071, 0.15969701,\n",
       "       0.12901053, 0.2059543 , 0.15799299, 0.1879761 , 0.1904113 ,\n",
       "       0.13111497, 0.11019452, 0.12241444, 0.16864888, 0.17219238,\n",
       "       0.13092399, 0.15588358, 0.18476021, 0.14759016, 0.15471028,\n",
       "       0.13452972, 0.14306974, 0.12730753, 0.10708382, 0.12847917,\n",
       "       0.13222916, 0.25343862, 0.29210323, 0.11240886, 0.12646224,\n",
       "       0.12604262, 0.17170823, 0.18615599, 0.23976733, 0.18073313,\n",
       "       0.18570724, 0.14476573, 0.14781505, 0.13261566, 0.3769592 ,\n",
       "       0.14348492], dtype=float32)"
      ]
     },
     "execution_count": 20,
     "metadata": {},
     "output_type": "execute_result"
    }
   ],
   "source": [
    "np.array([x[2] for x in results + results_neg])"
   ]
  },
  {
   "cell_type": "code",
   "execution_count": 21,
   "id": "6c7f9260",
   "metadata": {},
   "outputs": [
    {
     "data": {
      "text/plain": [
       "52"
      ]
     },
     "execution_count": 21,
     "metadata": {},
     "output_type": "execute_result"
    }
   ],
   "source": [
    "len([x for x in ps if x == 0])"
   ]
  },
  {
   "cell_type": "code",
   "execution_count": 22,
   "id": "143a17ac",
   "metadata": {},
   "outputs": [
    {
     "data": {
      "text/plain": [
       "91"
      ]
     },
     "execution_count": 22,
     "metadata": {},
     "output_type": "execute_result"
    }
   ],
   "source": [
    "len(ps)"
   ]
  },
  {
   "cell_type": "code",
   "execution_count": 23,
   "id": "3c533a15",
   "metadata": {},
   "outputs": [
    {
     "data": {
      "image/png": "[encoded data removed]",
      "text/plain": [
       "<Figure size 432x288 with 2 Axes>"
      ]
     },
     "metadata": {},
     "output_type": "display_data"
    }
   ],
   "source": [
    "TP=len([x for x in ps if x]) / (len(results) + len(results_neg))\n",
    "FN=len([x for x in ps if not x]) / (len(results) + len(results_neg))\n",
    "FP=len([x for x in ns if x]) / (len(results) + len(results_neg))\n",
    "TN=len([x for x in ns if not x]) / (len(results) + len(results_neg))\n",
    "import seaborn as sn\n",
    "import pandas as pd\n",
    "import matplotlib.pyplot as plt\n",
    "\n",
    "array = [[TP,FN],\n",
    "         [FP,TN]]\n",
    "\n",
    "df_cm = pd.DataFrame(array, ['same', 'different'], ['verified', 'unverified'])\n",
    "# plt.figure(figsize=(10,7))\n",
    "sn.set(font_scale=1.4) # for label size\n",
    "sn.heatmap(df_cm, annot=True, annot_kws={\"size\": 16}) # font size\n",
    "\n",
    "plt.show()"
   ]
  },
  {
   "cell_type": "code",
   "execution_count": 24,
   "id": "9523ea1c",
   "metadata": {},
   "outputs": [
    {
     "data": {
      "text/plain": [
       "0.2154696132596685"
      ]
     },
     "execution_count": 24,
     "metadata": {},
     "output_type": "execute_result"
    }
   ],
   "source": [
    "TP"
   ]
  },
  {
   "cell_type": "code",
   "execution_count": 25,
   "id": "e6c23ae4",
   "metadata": {},
   "outputs": [
    {
     "data": {
      "text/plain": [
       "0.287292817679558"
      ]
     },
     "execution_count": 25,
     "metadata": {},
     "output_type": "execute_result"
    }
   ],
   "source": [
    "FN"
   ]
  },
  {
   "cell_type": "code",
   "execution_count": 26,
   "id": "38a5256f",
   "metadata": {},
   "outputs": [
    {
     "data": {
      "text/plain": [
       "0.19337016574585636"
      ]
     },
     "execution_count": 26,
     "metadata": {},
     "output_type": "execute_result"
    }
   ],
   "source": [
    "FP"
   ]
  },
  {
   "cell_type": "code",
   "execution_count": 27,
   "id": "2f5ab3ba",
   "metadata": {},
   "outputs": [
    {
     "data": {
      "text/plain": [
       "181"
      ]
     },
     "execution_count": 27,
     "metadata": {},
     "output_type": "execute_result"
    }
   ],
   "source": [
    "len(results) + len(results_neg)"
   ]
  },
  {
   "cell_type": "code",
   "execution_count": 29,
   "id": "0e29c734",
   "metadata": {},
   "outputs": [],
   "source": [
    "import seaborn as sns\n",
    "total_results = pd.DataFrame(data=[(x[2],\"positive\") for x in results]+[(x[2],\"negative\") for x in results_neg], columns=[\"distance\", \"type\"])"
   ]
  },
  {
   "cell_type": "code",
   "execution_count": 30,
   "id": "309d6b64",
   "metadata": {},
   "outputs": [
    {
     "data": {
      "text/plain": [
       "<AxesSubplot:xlabel='distance', ylabel='Percent'>"
      ]
     },
     "execution_count": 30,
     "metadata": {},
     "output_type": "execute_result"
    },
    {
     "data": {
      "image/png": "[encoded data removed]",
      "text/plain": [
       "<Figure size 432x288 with 1 Axes>"
      ]
     },
     "metadata": {},
     "output_type": "display_data"
    }
   ],
   "source": [
    "sns.histplot(total_results, x='distance', hue='type', element='step', kde=True, stat='percent')"
   ]
  },
  {
   "cell_type": "code",
   "execution_count": null,
   "id": "804c8a90",
   "metadata": {},
   "outputs": [],
   "source": []
  }
 ],
 "metadata": {
  "kernelspec": {
   "display_name": "Python 3 (ipykernel)",
   "language": "python",
   "name": "python3"
  },
  "language_info": {
   "codemirror_mode": {
    "name": "ipython",
    "version": 3
   },
   "file_extension": ".py",
   "mimetype": "text/x-python",
   "name": "python",
   "nbconvert_exporter": "python",
   "pygments_lexer": "ipython3",
   "version": "3.9.7"
  }
 },
 "nbformat": 4,
 "nbformat_minor": 5
}
