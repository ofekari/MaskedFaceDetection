{
 "cells": [
  {
   "cell_type": "code",
   "execution_count": 1,
   "id": "bc19593e",
   "metadata": {},
   "outputs": [],
   "source": [
    "from keras.models import model_from_json"
   ]
  },
  {
   "cell_type": "code",
   "execution_count": 2,
   "id": "a90b2c8d",
   "metadata": {},
   "outputs": [],
   "source": [
    "from inception_resnet_v1 import *\n",
    "model = InceptionResNetV1()"
   ]
  },
  {
   "cell_type": "code",
   "execution_count": 3,
   "id": "2cae6052",
   "metadata": {},
   "outputs": [],
   "source": [
    "import numpy as np\n",
    "def l2_normalize(x):\n",
    "    return x / np.sqrt(np.sum(np.multiply(x, x)))\n",
    "\n",
    "def findEuclideanDistance(source_representation, test_representation):\n",
    "    euclidean_distance = source_representation - test_representation\n",
    "    euclidean_distance = np.sum(np.multiply(euclidean_distance, euclidean_distance))\n",
    "    euclidean_distance = np.sqrt(euclidean_distance)\n",
    "    return euclidean_distance"
   ]
  },
  {
   "cell_type": "code",
   "execution_count": 4,
   "id": "554cc3e2",
   "metadata": {},
   "outputs": [],
   "source": [
    "import numpy as np\n",
    "\n",
    "from keras.models import Sequential\n",
    "from keras.models import load_model\n",
    "from keras.models import model_from_json\n",
    "from keras.layers.core import Dense, Activation\n",
    "from keras.utils import np_utils\n",
    "\n",
    "from keras.preprocessing.image import load_img, save_img, img_to_array\n",
    "from keras.applications.imagenet_utils import preprocess_input\n",
    "\n",
    "import matplotlib.pyplot as plt\n",
    "from keras.preprocessing import image\n",
    "\n",
    "import pathlib\n",
    "import pandas as pd\n"
   ]
  },
  {
   "cell_type": "code",
   "execution_count": 5,
   "id": "9ec97402",
   "metadata": {},
   "outputs": [],
   "source": [
    "def preprocess_image(image_path):\n",
    "    img = load_img(image_path, target_size=(160, 160))\n",
    "    img = img_to_array(img)\n",
    "    img = np.expand_dims(img, axis=0)\n",
    "    img = preprocess_input(img)\n",
    "    return img"
   ]
  },
  {
   "cell_type": "code",
   "execution_count": 6,
   "id": "78dff1e9",
   "metadata": {},
   "outputs": [],
   "source": [
    "BASE_PATH = pathlib.Path('../data/mfr2')\n",
    "labels_path = BASE_PATH / 'mfr2_labels.txt'\n",
    "pairs_path = BASE_PATH / 'pairs.txt'"
   ]
  },
  {
   "cell_type": "code",
   "execution_count": 7,
   "id": "619fa3be",
   "metadata": {},
   "outputs": [],
   "source": [
    "# results = []\n",
    "\n",
    "\n",
    "# unmasked_people = sorted(list(unmasked_dataset_path.iterdir()))\n",
    "# for unmasked_person in unmasked_people:\n",
    "#     masked_person = masked_dataset_path / unmasked_person.name\n",
    "#     if not masked_person.is_dir():\n",
    "#         continue\n",
    "#     unmasked_image_path = str(sorted(list(unmasked_person.iterdir()))[0])\n",
    "#     masked_image_path = str(sorted(list(masked_person.iterdir()))[0])\n",
    "    \n",
    "#     try:\n",
    "#         unmasked_features = l2_normalize(model.predict(preprocess_image(last)))\n",
    "#         masked_features = l2_normalize(model.predict(preprocess_image(masked_image_path)))\n",
    "\n",
    "#         euclidean_distance = findEuclideanDistance(unmasked_features, masked_features)\n",
    "#         matched = euclidean_distance < threshold\n",
    "#         if matched:\n",
    "#             print(\"verified... they are same person\")\n",
    "#         else:\n",
    "#             print(\"unverified! they are not same person!\")\n",
    "#     except Exception as e:\n",
    "#         print(e)\n",
    "#         continue\n",
    "    \n",
    "#     results.append([unmasked_person.name, matched])"
   ]
  },
  {
   "cell_type": "code",
   "execution_count": 8,
   "id": "f10eb0b2",
   "metadata": {},
   "outputs": [],
   "source": [
    "labels=pd.read_csv(filepath_or_buffer=str(labels_path))\n",
    "labels=labels.apply(lambda x: x.apply(lambda y: y.strip() if type(y) == type('') else y), axis=0)\n",
    "people=labels[\"person\"].unique()"
   ]
  },
  {
   "cell_type": "code",
   "execution_count": 9,
   "id": "e74ef729",
   "metadata": {},
   "outputs": [
    {
     "data": {
      "text/html": [
       "<div>\n",
       "<style scoped>\n",
       "    .dataframe tbody tr th:only-of-type {\n",
       "        vertical-align: middle;\n",
       "    }\n",
       "\n",
       "    .dataframe tbody tr th {\n",
       "        vertical-align: top;\n",
       "    }\n",
       "\n",
       "    .dataframe thead th {\n",
       "        text-align: right;\n",
       "    }\n",
       "</style>\n",
       "<table border=\"1\" class=\"dataframe\">\n",
       "  <thead>\n",
       "    <tr style=\"text-align: right;\">\n",
       "      <th></th>\n",
       "      <th>person</th>\n",
       "      <th>index</th>\n",
       "      <th>mask</th>\n",
       "    </tr>\n",
       "  </thead>\n",
       "  <tbody>\n",
       "    <tr>\n",
       "      <th>1</th>\n",
       "      <td>AdrianDunbar</td>\n",
       "      <td>2</td>\n",
       "      <td>no-mask</td>\n",
       "    </tr>\n",
       "    <tr>\n",
       "      <th>3</th>\n",
       "      <td>AdrianDunbar</td>\n",
       "      <td>4</td>\n",
       "      <td>no-mask</td>\n",
       "    </tr>\n",
       "  </tbody>\n",
       "</table>\n",
       "</div>"
      ],
      "text/plain": [
       "         person  index     mask\n",
       "1  AdrianDunbar      2  no-mask\n",
       "3  AdrianDunbar      4  no-mask"
      ]
     },
     "execution_count": 9,
     "metadata": {},
     "output_type": "execute_result"
    }
   ],
   "source": [
    "#np.array(labels['mask']=='no-mask') & np.array(labels['person']==people[0])\n",
    "labels[np.array(labels['mask']=='no-mask') & np.array(labels['person']==people[0])]"
   ]
  },
  {
   "cell_type": "code",
   "execution_count": 10,
   "id": "4573aa2d",
   "metadata": {},
   "outputs": [],
   "source": [
    "with pairs_path.open() as f:\n",
    "    pairs_data = [l.strip().split(' ') for l in f.readlines() if l.strip()]\n",
    "\n",
    "pairs = []\n",
    "for pair_data in pairs_data:\n",
    "    if len(pair_data) == 3:\n",
    "        pairs.append(((pair_data[0], pair_data[1]), (pair_data[0], pair_data[2])))\n",
    "    elif len(pair_data) == 4:\n",
    "        pairs.append(((pair_data[0], pair_data[1]), (pair_data[2], pair_data[3])))\n",
    "    else:\n",
    "        print('wtf', pair_data)"
   ]
  },
  {
   "cell_type": "code",
   "execution_count": 11,
   "id": "91f76362",
   "metadata": {},
   "outputs": [
    {
     "data": {
      "text/plain": [
       "(('ImranKhan', '2'), ('SimonCowell', '3'))"
      ]
     },
     "execution_count": 11,
     "metadata": {},
     "output_type": "execute_result"
    }
   ],
   "source": [
    "pairs[1]"
   ]
  },
  {
   "cell_type": "code",
   "execution_count": 12,
   "id": "3ba99b4a",
   "metadata": {},
   "outputs": [],
   "source": [
    "SAMPLE_SIZE = 10\n",
    "threshold = 0.35"
   ]
  },
  {
   "cell_type": "code",
   "execution_count": 13,
   "id": "1c72fc47",
   "metadata": {},
   "outputs": [
    {
     "ename": "IndentationError",
     "evalue": "expected an indented block (Temp/ipykernel_15036/2682737167.py, line 7)",
     "output_type": "error",
     "traceback": [
      "\u001b[1;36m  File \u001b[1;32m\"C:\\Users\\ofektor\\AppData\\Local\\Temp/ipykernel_15036/2682737167.py\"\u001b[1;36m, line \u001b[1;32m7\u001b[0m\n\u001b[1;33m    path1 = BASE_PATH / person1 / f'{person1}_{str(index1).rjust(4, \"0\")}.png'\u001b[0m\n\u001b[1;37m    ^\u001b[0m\n\u001b[1;31mIndentationError\u001b[0m\u001b[1;31m:\u001b[0m expected an indented block\n"
     ]
    }
   ],
   "source": [
    "results = []\n",
    "\n",
    "# positive test\n",
    "for pair in pairs:\n",
    "    (person1,index1),(person2,index2) = pair\n",
    "    if person1 == person2:\n",
    "    path1 = BASE_PATH / person1 / f'{person1}_{str(index1).rjust(4, \"0\")}.png'\n",
    "    path2 = BASE_PATH / person2 / f'{person2}_{str(index2).rjust(4, \"0\")}.png'\n",
    "    \n",
    "    try:\n",
    "        features1 = l2_normalize(model.predict(preprocess_image(path1)))\n",
    "        features2 = l2_normalize(model.predict(preprocess_image(path2)))\n",
    "\n",
    "        euclidean_distance = findEuclideanDistance(features1, features2)\n",
    "        matched = euclidean_distance < threshold\n",
    "        if matched:\n",
    "            print(\"verified... they are same person\")\n",
    "        else:\n",
    "            print(\"unverified! they are not same person!\")\n",
    "    except Exception as e:\n",
    "        print(e)\n",
    "        continue\n",
    "    \n",
    "    results.append([pair, matched, euclidean_distance])"
   ]
  },
  {
   "cell_type": "code",
   "execution_count": null,
   "id": "8bfa6eca",
   "metadata": {},
   "outputs": [],
   "source": [
    "TP=len([x for x in results if x[1]]) / len(results)\n",
    "FN=1-TP"
   ]
  },
  {
   "cell_type": "code",
   "execution_count": null,
   "id": "7e3a55fc",
   "metadata": {},
   "outputs": [],
   "source": [
    "TP"
   ]
  },
  {
   "cell_type": "code",
   "execution_count": null,
   "id": "e41a2960",
   "metadata": {},
   "outputs": [],
   "source": [
    "FN"
   ]
  },
  {
   "cell_type": "code",
   "execution_count": null,
   "id": "79e35911",
   "metadata": {},
   "outputs": [],
   "source": [
    "len(list(BASE_PATH.iterdir()))"
   ]
  },
  {
   "cell_type": "code",
   "execution_count": null,
   "id": "ac724155",
   "metadata": {},
   "outputs": [],
   "source": [
    "55**2"
   ]
  },
  {
   "cell_type": "code",
   "execution_count": null,
   "id": "4e746ec5",
   "metadata": {},
   "outputs": [],
   "source": [
    "results_neg = []\n",
    "count = 0\n",
    "\n",
    "for person1 in BASE_PATH.iterdir():\n",
    "    for person2 in BASE_PATH.iterdir():\n",
    "        if not person1.is_dir() or not person2.is_dir() or person1.name == person2.name or not person1.name.isalpha() or not person2.name.isalpha():\n",
    "            continue\n",
    "        count += 1\n",
    "        if count >= len(results):\n",
    "            break\n",
    "        index1 = index2 = 1\n",
    "        \n",
    "        path1 = BASE_PATH / person1.name / f'{person1.name}_{str(index1).rjust(4, \"0\")}.png'\n",
    "        path2 = BASE_PATH / person2.name / f'{person2.name}_{str(index2).rjust(4, \"0\")}.png'\n",
    "\n",
    "        try:\n",
    "            features1 = l2_normalize(model.predict(preprocess_image(path1)))\n",
    "            features2 = l2_normalize(model.predict(preprocess_image(path2)))\n",
    "\n",
    "            euclidean_distance = findEuclideanDistance(features1, features2)\n",
    "            matched = euclidean_distance < threshold\n",
    "            if matched:\n",
    "                print(\"verified... they are same person\")\n",
    "            else:\n",
    "                print(\"unverified! they are not same person!\")\n",
    "        except Exception as e:\n",
    "            print(e)\n",
    "            continue\n",
    "\n",
    "        results_neg.append([pair, matched, euclidean_distance])"
   ]
  },
  {
   "cell_type": "code",
   "execution_count": null,
   "id": "292ecad1",
   "metadata": {},
   "outputs": [],
   "source": [
    "FP=len([x for x in results_neg if x[1]]) / len(results_neg)\n",
    "TN=1-TP"
   ]
  },
  {
   "cell_type": "code",
   "execution_count": null,
   "id": "fd915380",
   "metadata": {},
   "outputs": [],
   "source": [
    "FP"
   ]
  },
  {
   "cell_type": "code",
   "execution_count": null,
   "id": "51da7b36",
   "metadata": {},
   "outputs": [],
   "source": [
    "TN"
   ]
  },
  {
   "cell_type": "code",
   "execution_count": null,
   "id": "3280b2d2",
   "metadata": {},
   "outputs": [],
   "source": [
    "TP=len([x for x in results if x[1]]) / (len(results) + len(results_neg))\n",
    "FN=len([x for x in results if not x[1]]) / (len(results) + len(results_neg))\n",
    "FP=len([x for x in results_neg if x[1]]) / (len(results) + len(results_neg))\n",
    "TN=len([x for x in results_neg if not x[1]]) / (len(results) + len(results_neg))\n",
    "import seaborn as sn\n",
    "import pandas as pd\n",
    "import matplotlib.pyplot as plt\n",
    "\n",
    "array = [[TP,FN],\n",
    "         [FP,TN]]\n",
    "\n",
    "df_cm = pd.DataFrame(array, ['same', 'different'], ['verified', 'unverified'])\n",
    "# plt.figure(figsize=(10,7))\n",
    "sn.set(font_scale=1.4) # for label size\n",
    "sn.heatmap(df_cm, annot=True, annot_kws={\"size\": 16}) # font size\n",
    "\n",
    "plt.show()"
   ]
  },
  {
   "cell_type": "code",
   "execution_count": null,
   "id": "1b3897a0",
   "metadata": {},
   "outputs": [],
   "source": [
    "from sklearn import svm\n",
    "X = [x[2] for x in results] + [x[2] for x in results_neg]\n",
    "y = [1 for x in results] + [0 for x in results_neg]\n",
    "clf = svm.SVC()\n",
    "clf.fit(np.array(X).reshape(-1, 1), y)"
   ]
  },
  {
   "cell_type": "code",
   "execution_count": null,
   "id": "a9a052ce",
   "metadata": {},
   "outputs": [],
   "source": [
    "ps=clf.predict(np.array([x[2] for x in results]).reshape(-1, 1))"
   ]
  },
  {
   "cell_type": "code",
   "execution_count": null,
   "id": "7082502b",
   "metadata": {},
   "outputs": [],
   "source": [
    "len([x for x in ps if x == 1])"
   ]
  },
  {
   "cell_type": "code",
   "execution_count": null,
   "id": "1e8a2ef1",
   "metadata": {},
   "outputs": [],
   "source": [
    "ns=clf.predict(np.array([x[2] for x in results_neg]).reshape(-1, 1))"
   ]
  },
  {
   "cell_type": "code",
   "execution_count": null,
   "id": "6c7f9260",
   "metadata": {},
   "outputs": [],
   "source": [
    "len([x for x in ps if x == 0])"
   ]
  },
  {
   "cell_type": "code",
   "execution_count": null,
   "id": "143a17ac",
   "metadata": {},
   "outputs": [],
   "source": [
    "len(ps)"
   ]
  },
  {
   "cell_type": "code",
   "execution_count": null,
   "id": "3c533a15",
   "metadata": {},
   "outputs": [],
   "source": [
    "TP=len([x for x in ps if x]) / (len(results) + len(results_neg))\n",
    "FN=len([x for x in ps if not x]) / (len(results) + len(results_neg))\n",
    "FP=len([x for x in ns if x]) / (len(results) + len(results_neg))\n",
    "TN=len([x for x in ns if not x]) / (len(results) + len(results_neg))\n",
    "import seaborn as sn\n",
    "import pandas as pd\n",
    "import matplotlib.pyplot as plt\n",
    "\n",
    "array = [[TP,FN],\n",
    "         [FP,TN]]\n",
    "\n",
    "df_cm = pd.DataFrame(array, ['same', 'different'], ['verified', 'unverified'])\n",
    "# plt.figure(figsize=(10,7))\n",
    "sn.set(font_scale=1.4) # for label size\n",
    "sn.heatmap(df_cm, annot=True, annot_kws={\"size\": 16}) # font size\n",
    "\n",
    "plt.show()"
   ]
  },
  {
   "cell_type": "code",
   "execution_count": null,
   "id": "9523ea1c",
   "metadata": {},
   "outputs": [],
   "source": [
    "TP"
   ]
  },
  {
   "cell_type": "code",
   "execution_count": null,
   "id": "e6c23ae4",
   "metadata": {},
   "outputs": [],
   "source": [
    "FN"
   ]
  },
  {
   "cell_type": "code",
   "execution_count": null,
   "id": "38a5256f",
   "metadata": {},
   "outputs": [],
   "source": [
    "FP"
   ]
  },
  {
   "cell_type": "code",
   "execution_count": null,
   "id": "2f5ab3ba",
   "metadata": {},
   "outputs": [],
   "source": [
    "len(results) + len(results_neg)"
   ]
  },
  {
   "cell_type": "code",
   "execution_count": null,
   "id": "0e29c734",
   "metadata": {},
   "outputs": [],
   "source": [
    "import seaborn as sns\n",
    "total_results = pd.DataFrame(data=[(x[2],\"positive\") for x in results]+[(x[2],\"negative\") for x in results_neg], columns=[\"distance\", \"type\"])"
   ]
  },
  {
   "cell_type": "code",
   "execution_count": null,
   "id": "0cf61e98",
   "metadata": {},
   "outputs": [],
   "source": [
    "sns.histplot(total_results, x='distance', hue='type', element='step', kde=True, stat='percent')"
   ]
  }
 ],
 "metadata": {
  "kernelspec": {
   "display_name": "Python 3 (ipykernel)",
   "language": "python",
   "name": "python3"
  },
  "language_info": {
   "codemirror_mode": {
    "name": "ipython",
    "version": 3
   },
   "file_extension": ".py",
   "mimetype": "text/x-python",
   "name": "python",
   "nbconvert_exporter": "python",
   "pygments_lexer": "ipython3",
   "version": "3.9.7"
  }
 },
 "nbformat": 4,
 "nbformat_minor": 5
}
