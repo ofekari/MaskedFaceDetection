{
 "cells": [
  {
   "cell_type": "code",
   "execution_count": 2,
   "id": "bc19593e",
   "metadata": {},
   "outputs": [],
   "source": [
    "# face verification with the VGGFace2 model\n",
    "from matplotlib import pyplot\n",
    "from PIL import Image\n",
    "from numpy import asarray\n",
    "from scipy.spatial.distance import cosine\n",
    "from mtcnn.mtcnn import MTCNN\n",
    "from keras_vggface.vggface import VGGFace\n",
    "from keras_vggface.utils import preprocess_input\n",
    "import pandas as pd\n",
    "\n",
    "# extract a single face from a given photograph\n",
    "def extract_face(filename, required_size=(224, 224)):\n",
    "    # load image from file\n",
    "#     pixels = pyplot.imread(filename)\n",
    "#     # create the detector, using default weights\n",
    "#     detector = MTCNN()\n",
    "#     # detect faces in the image\n",
    "#     results = detector.detect_faces(pixels)\n",
    "#     # extract the bounding box from the first face\n",
    "#     x1, y1, width, height = results[0]['box']\n",
    "#     x2, y2 = x1 + width, y1 + height\n",
    "#     # extract the face\n",
    "#     face = pixels[y1:y2, x1:x2]\n",
    "    # resize pixels to the model size\n",
    "    image = Image.open(filename)\n",
    "    image = image.resize(required_size)\n",
    "    face_array = asarray(image)\n",
    "    return face_array\n",
    "\n",
    "model = None\n",
    "# extract faces and calculate face embeddings for a list of photo files\n",
    "def get_embeddings(filenames):\n",
    "    # extract faces\n",
    "    faces = [extract_face(f) for f in filenames]\n",
    "    # convert into an array of samples\n",
    "    samples = asarray(faces, 'float32')\n",
    "    # prepare the face for the model, e.g. center pixels\n",
    "    samples = preprocess_input(samples, version=2)\n",
    "    # create a vggface model\n",
    "    global model\n",
    "    if not model:\n",
    "        model = VGGFace(model='resnet50', include_top=False, input_shape=(224, 224, 3), pooling='avg')\n",
    "    # perform prediction\n",
    "    yhat = model.predict(samples)\n",
    "    return yhat\n",
    "\n",
    "# determine if a candidate face is a match for a known face\n",
    "def is_match(known_embedding, candidate_embedding, thresh=0.5):\n",
    "    # calculate distance between embeddings\n",
    "    score = cosine(known_embedding, candidate_embedding)\n",
    "    if score <= thresh:\n",
    "        print('>face is a Match (%.3f <= %.3f)' % (score, thresh))\n",
    "        return True, score\n",
    "    else:\n",
    "        print('>face is NOT a Match (%.3f > %.3f)' % (score, thresh))\n",
    "        return False, score"
   ]
  },
  {
   "cell_type": "code",
   "execution_count": 3,
   "id": "554cc3e2",
   "metadata": {},
   "outputs": [],
   "source": [
    "import numpy as np\n",
    "import matplotlib.pyplot as plt\n",
    "import pathlib\n",
    "import pandas as pd"
   ]
  },
  {
   "cell_type": "code",
   "execution_count": 4,
   "id": "78dff1e9",
   "metadata": {},
   "outputs": [],
   "source": [
    "BASE_PATH = pathlib.Path('../data/mfr2')\n",
    "labels_path = BASE_PATH / 'mfr2_labels.txt'\n",
    "pairs_path = BASE_PATH / 'pairs.txt'"
   ]
  },
  {
   "cell_type": "code",
   "execution_count": 5,
   "id": "f10eb0b2",
   "metadata": {},
   "outputs": [],
   "source": [
    "labels=pd.read_csv(filepath_or_buffer=str(labels_path))\n",
    "labels=labels.apply(lambda x: x.apply(lambda y: y.strip() if type(y) == type('') else y), axis=0)\n",
    "people=labels[\"person\"].unique()\n",
    "\n",
    "def get_indexes(person, mask=True):\n",
    "    if mask:\n",
    "        mask_filter = labels[\"mask\"]!=\"no-mask\"\n",
    "    else:\n",
    "        mask_filter = labels[\"mask\"]==\"no-mask\"\n",
    "    person_filter = labels[\"person\"]==person\n",
    "    return list(labels[person_filter & mask_filter][\"index\"])\n",
    "\n",
    "pairs={person:list(zip(get_indexes(person,mask=True), get_indexes(person, mask=False))) for person in people}"
   ]
  },
  {
   "cell_type": "code",
   "execution_count": 7,
   "id": "4573aa2d",
   "metadata": {},
   "outputs": [],
   "source": [
    "# with pairs_path.open() as f:\n",
    "#     pairs_data = [l.strip().split(' ') for l in f.readlines() if l.strip()]\n",
    "\n",
    "# pairs = []\n",
    "# for pair_data in pairs_data:\n",
    "#     if len(pair_data) == 3:\n",
    "#         pairs.append(((pair_data[0], pair_data[1]), (pair_data[0], pair_data[2])))\n",
    "#     elif len(pair_data) == 4:\n",
    "#         pairs.append(((pair_data[0], pair_data[1]), (pair_data[2], pair_data[3])))\n",
    "#     else:\n",
    "#         print('wtf', pair_data)"
   ]
  },
  {
   "cell_type": "code",
   "execution_count": 7,
   "id": "91f76362",
   "metadata": {},
   "outputs": [
    {
     "name": "stdout",
     "output_type": "stream",
     "text": [
      ">face is NOT a Match (0.526 > 0.500)\n",
      ">face is NOT a Match (0.532 > 0.500)\n",
      ">face is NOT a Match (0.567 > 0.500)\n",
      ">face is NOT a Match (0.621 > 0.500)\n",
      ">face is a Match (0.478 <= 0.500)\n",
      ">face is NOT a Match (0.561 > 0.500)\n",
      ">face is NOT a Match (0.682 > 0.500)\n",
      ">face is NOT a Match (0.560 > 0.500)\n",
      ">face is a Match (0.383 <= 0.500)\n",
      ">face is a Match (0.327 <= 0.500)\n",
      ">face is a Match (0.438 <= 0.500)\n",
      ">face is NOT a Match (0.685 > 0.500)\n",
      ">face is a Match (0.217 <= 0.500)\n",
      ">face is a Match (0.316 <= 0.500)\n",
      ">face is NOT a Match (0.589 > 0.500)\n",
      ">face is a Match (0.445 <= 0.500)\n",
      ">face is a Match (0.468 <= 0.500)\n",
      ">face is a Match (0.450 <= 0.500)\n",
      ">face is a Match (0.390 <= 0.500)\n",
      ">face is a Match (0.414 <= 0.500)\n",
      ">face is a Match (0.444 <= 0.500)\n",
      ">face is a Match (0.393 <= 0.500)\n",
      ">face is NOT a Match (0.542 > 0.500)\n",
      ">face is a Match (0.422 <= 0.500)\n",
      ">face is a Match (0.448 <= 0.500)\n",
      ">face is NOT a Match (0.501 > 0.500)\n",
      ">face is a Match (0.462 <= 0.500)\n",
      ">face is NOT a Match (0.562 > 0.500)\n",
      ">face is NOT a Match (0.554 > 0.500)\n",
      ">face is a Match (0.467 <= 0.500)\n",
      ">face is a Match (0.444 <= 0.500)\n",
      ">face is NOT a Match (0.622 > 0.500)\n",
      ">face is NOT a Match (0.534 > 0.500)\n",
      ">face is NOT a Match (0.551 > 0.500)\n",
      ">face is a Match (0.359 <= 0.500)\n",
      ">face is a Match (0.500 <= 0.500)\n",
      ">face is a Match (0.330 <= 0.500)\n",
      ">face is a Match (0.483 <= 0.500)\n",
      ">face is a Match (0.333 <= 0.500)\n",
      ">face is a Match (0.446 <= 0.500)\n",
      ">face is a Match (0.494 <= 0.500)\n",
      ">face is a Match (0.361 <= 0.500)\n",
      ">face is a Match (0.468 <= 0.500)\n",
      ">face is a Match (0.491 <= 0.500)\n",
      ">face is NOT a Match (0.504 > 0.500)\n",
      ">face is a Match (0.358 <= 0.500)\n",
      ">face is a Match (0.428 <= 0.500)\n",
      ">face is NOT a Match (0.557 > 0.500)\n",
      ">face is NOT a Match (0.620 > 0.500)\n",
      ">face is NOT a Match (0.532 > 0.500)\n",
      ">face is NOT a Match (0.535 > 0.500)\n",
      ">face is NOT a Match (0.727 > 0.500)\n",
      ">face is a Match (0.466 <= 0.500)\n",
      ">face is a Match (0.391 <= 0.500)\n",
      ">face is a Match (0.289 <= 0.500)\n",
      ">face is a Match (0.436 <= 0.500)\n",
      ">face is a Match (0.456 <= 0.500)\n",
      ">face is a Match (0.428 <= 0.500)\n",
      ">face is a Match (0.468 <= 0.500)\n",
      ">face is a Match (0.403 <= 0.500)\n",
      ">face is NOT a Match (0.516 > 0.500)\n",
      ">face is NOT a Match (0.551 > 0.500)\n",
      ">face is NOT a Match (0.573 > 0.500)\n",
      ">face is NOT a Match (0.549 > 0.500)\n",
      ">face is a Match (0.461 <= 0.500)\n",
      ">face is NOT a Match (0.571 > 0.500)\n",
      ">face is NOT a Match (0.519 > 0.500)\n",
      ">face is a Match (0.422 <= 0.500)\n",
      ">face is NOT a Match (0.543 > 0.500)\n",
      ">face is NOT a Match (0.528 > 0.500)\n",
      ">face is NOT a Match (0.502 > 0.500)\n",
      ">face is NOT a Match (0.614 > 0.500)\n",
      ">face is a Match (0.488 <= 0.500)\n",
      ">face is a Match (0.432 <= 0.500)\n",
      ">face is NOT a Match (0.503 > 0.500)\n",
      ">face is NOT a Match (0.540 > 0.500)\n",
      ">face is a Match (0.304 <= 0.500)\n",
      ">face is a Match (0.419 <= 0.500)\n",
      ">face is a Match (0.401 <= 0.500)\n",
      ">face is a Match (0.388 <= 0.500)\n",
      ">face is a Match (0.309 <= 0.500)\n",
      ">face is NOT a Match (0.501 > 0.500)\n",
      ">face is a Match (0.305 <= 0.500)\n",
      ">face is a Match (0.252 <= 0.500)\n",
      ">face is a Match (0.330 <= 0.500)\n",
      ">face is a Match (0.358 <= 0.500)\n",
      ">face is a Match (0.399 <= 0.500)\n",
      ">face is a Match (0.351 <= 0.500)\n",
      ">face is NOT a Match (0.545 > 0.500)\n",
      ">face is a Match (0.344 <= 0.500)\n",
      ">face is NOT a Match (0.529 > 0.500)\n"
     ]
    }
   ],
   "source": [
    "results = []\n",
    "\n",
    "# positive test\n",
    "for person, pairs in pairs.items():\n",
    "    for index1, index2 in pairs:\n",
    "        path1 = BASE_PATH / person / f'{person}_{str(index1).rjust(4, \"0\")}.png'\n",
    "        path2 = BASE_PATH / person / f'{person}_{str(index2).rjust(4, \"0\")}.png'\n",
    "\n",
    "        features1,features2=get_embeddings([path1, path2])\n",
    "        matched, distance = is_match(features1, features2)\n",
    "\n",
    "        results.append([pair, matched, distance])"
   ]
  },
  {
   "cell_type": "code",
   "execution_count": 6,
   "id": "1c72fc47",
   "metadata": {},
   "outputs": [
    {
     "ename": "ValueError",
     "evalue": "too many values to unpack (expected 2)",
     "output_type": "error",
     "traceback": [
      "\u001b[1;31m---------------------------------------------------------------------------\u001b[0m",
      "\u001b[1;31mValueError\u001b[0m                                Traceback (most recent call last)",
      "\u001b[1;32m~\\AppData\\Local\\Temp/ipykernel_4236/1312192208.py\u001b[0m in \u001b[0;36m<module>\u001b[1;34m\u001b[0m\n\u001b[0;32m      3\u001b[0m \u001b[1;31m# positive test\u001b[0m\u001b[1;33m\u001b[0m\u001b[1;33m\u001b[0m\u001b[0m\n\u001b[0;32m      4\u001b[0m \u001b[1;32mfor\u001b[0m \u001b[0mpair\u001b[0m \u001b[1;32min\u001b[0m \u001b[0mpairs\u001b[0m\u001b[1;33m:\u001b[0m\u001b[1;33m\u001b[0m\u001b[1;33m\u001b[0m\u001b[0m\n\u001b[1;32m----> 5\u001b[1;33m     \u001b[1;33m(\u001b[0m\u001b[0mperson1\u001b[0m\u001b[1;33m,\u001b[0m\u001b[0mindex1\u001b[0m\u001b[1;33m)\u001b[0m\u001b[1;33m,\u001b[0m\u001b[1;33m(\u001b[0m\u001b[0mperson2\u001b[0m\u001b[1;33m,\u001b[0m\u001b[0mindex2\u001b[0m\u001b[1;33m)\u001b[0m \u001b[1;33m=\u001b[0m \u001b[0mpair\u001b[0m\u001b[1;33m\u001b[0m\u001b[1;33m\u001b[0m\u001b[0m\n\u001b[0m\u001b[0;32m      6\u001b[0m     \u001b[0mpath1\u001b[0m \u001b[1;33m=\u001b[0m \u001b[0mBASE_PATH\u001b[0m \u001b[1;33m/\u001b[0m \u001b[0mperson1\u001b[0m \u001b[1;33m/\u001b[0m \u001b[1;34mf'{person1}_{str(index1).rjust(4, \"0\")}.png'\u001b[0m\u001b[1;33m\u001b[0m\u001b[1;33m\u001b[0m\u001b[0m\n\u001b[0;32m      7\u001b[0m     \u001b[0mpath2\u001b[0m \u001b[1;33m=\u001b[0m \u001b[0mBASE_PATH\u001b[0m \u001b[1;33m/\u001b[0m \u001b[0mperson2\u001b[0m \u001b[1;33m/\u001b[0m \u001b[1;34mf'{person2}_{str(index2).rjust(4, \"0\")}.png'\u001b[0m\u001b[1;33m\u001b[0m\u001b[1;33m\u001b[0m\u001b[0m\n",
      "\u001b[1;31mValueError\u001b[0m: too many values to unpack (expected 2)"
     ]
    }
   ],
   "source": [
    "# results = []\n",
    "\n",
    "# # positive test\n",
    "# for pair in pairs:\n",
    "#     (person1,index1),(person2,index2) = pair\n",
    "#     path1 = BASE_PATH / person1 / f'{person1}_{str(index1).rjust(4, \"0\")}.png'\n",
    "#     path2 = BASE_PATH / person2 / f'{person2}_{str(index2).rjust(4, \"0\")}.png'\n",
    "    \n",
    "# #     try:\n",
    "#     features1,features2=get_embeddings([path1, path2])\n",
    "#     matched, distance = is_match(features1, features2)\n",
    "# #     except Exception as e:\n",
    "# #         print(e)\n",
    "# #         continue\n",
    "    \n",
    "#     results.append([pair, matched, distance])"
   ]
  },
  {
   "cell_type": "code",
   "execution_count": 15,
   "id": "8bfa6eca",
   "metadata": {},
   "outputs": [],
   "source": [
    "TP=len([x for x in results if x[1]]) / len(results)\n",
    "FN=1-TP"
   ]
  },
  {
   "cell_type": "code",
   "execution_count": 16,
   "id": "7e3a55fc",
   "metadata": {},
   "outputs": [
    {
     "data": {
      "text/plain": [
       "0.4056603773584906"
      ]
     },
     "execution_count": 16,
     "metadata": {},
     "output_type": "execute_result"
    }
   ],
   "source": [
    "TP"
   ]
  },
  {
   "cell_type": "code",
   "execution_count": 17,
   "id": "e41a2960",
   "metadata": {},
   "outputs": [
    {
     "data": {
      "text/plain": [
       "0.5943396226415094"
      ]
     },
     "execution_count": 17,
     "metadata": {},
     "output_type": "execute_result"
    }
   ],
   "source": [
    "FN"
   ]
  },
  {
   "cell_type": "code",
   "execution_count": 18,
   "id": "79e35911",
   "metadata": {},
   "outputs": [
    {
     "data": {
      "text/plain": [
       "55"
      ]
     },
     "execution_count": 18,
     "metadata": {},
     "output_type": "execute_result"
    }
   ],
   "source": [
    "len(list(BASE_PATH.iterdir()))"
   ]
  },
  {
   "cell_type": "code",
   "execution_count": 15,
   "id": "4e746ec5",
   "metadata": {},
   "outputs": [
    {
     "name": "stdout",
     "output_type": "stream",
     "text": [
      ">face is NOT a Match (0.700 > 0.500)\n",
      ">face is NOT a Match (0.698 > 0.500)\n",
      ">face is NOT a Match (0.589 > 0.500)\n",
      ">face is NOT a Match (0.605 > 0.500)\n",
      ">face is NOT a Match (0.711 > 0.500)\n",
      ">face is NOT a Match (0.641 > 0.500)\n",
      ">face is NOT a Match (0.793 > 0.500)\n",
      ">face is NOT a Match (0.878 > 0.500)\n",
      ">face is NOT a Match (0.837 > 0.500)\n",
      ">face is NOT a Match (0.785 > 0.500)\n",
      ">face is NOT a Match (0.805 > 0.500)\n",
      ">face is NOT a Match (0.701 > 0.500)\n",
      ">face is NOT a Match (0.755 > 0.500)\n",
      ">face is NOT a Match (0.789 > 0.500)\n",
      ">face is NOT a Match (0.751 > 0.500)\n",
      ">face is NOT a Match (0.641 > 0.500)\n",
      ">face is NOT a Match (0.777 > 0.500)\n",
      ">face is NOT a Match (0.770 > 0.500)\n",
      ">face is NOT a Match (0.623 > 0.500)\n",
      ">face is NOT a Match (0.806 > 0.500)\n",
      ">face is NOT a Match (0.815 > 0.500)\n",
      ">face is NOT a Match (0.859 > 0.500)\n",
      ">face is NOT a Match (0.596 > 0.500)\n",
      ">face is NOT a Match (0.821 > 0.500)\n",
      ">face is NOT a Match (0.775 > 0.500)\n",
      ">face is NOT a Match (0.799 > 0.500)\n",
      ">face is NOT a Match (0.832 > 0.500)\n",
      ">face is NOT a Match (0.676 > 0.500)\n",
      ">face is NOT a Match (0.811 > 0.500)\n",
      ">face is NOT a Match (0.851 > 0.500)\n",
      ">face is NOT a Match (0.756 > 0.500)\n",
      ">face is NOT a Match (0.706 > 0.500)\n",
      ">face is NOT a Match (0.610 > 0.500)\n",
      ">face is NOT a Match (0.805 > 0.500)\n",
      ">face is NOT a Match (0.815 > 0.500)\n",
      ">face is NOT a Match (0.798 > 0.500)\n",
      ">face is NOT a Match (0.781 > 0.500)\n",
      ">face is NOT a Match (0.820 > 0.500)\n",
      ">face is NOT a Match (0.774 > 0.500)\n",
      ">face is NOT a Match (0.734 > 0.500)\n",
      ">face is NOT a Match (0.713 > 0.500)\n",
      ">face is NOT a Match (0.805 > 0.500)\n",
      ">face is NOT a Match (0.708 > 0.500)\n",
      ">face is NOT a Match (0.727 > 0.500)\n",
      ">face is NOT a Match (0.725 > 0.500)\n",
      ">face is NOT a Match (0.745 > 0.500)\n",
      ">face is NOT a Match (0.647 > 0.500)\n",
      ">face is NOT a Match (0.791 > 0.500)\n",
      ">face is NOT a Match (0.750 > 0.500)\n",
      ">face is NOT a Match (0.699 > 0.500)\n",
      ">face is NOT a Match (0.786 > 0.500)\n",
      ">face is NOT a Match (0.677 > 0.500)\n",
      ">face is NOT a Match (0.757 > 0.500)\n",
      ">face is NOT a Match (0.779 > 0.500)\n",
      ">face is NOT a Match (0.640 > 0.500)\n",
      ">face is NOT a Match (0.788 > 0.500)\n",
      ">face is NOT a Match (0.640 > 0.500)\n",
      ">face is NOT a Match (0.755 > 0.500)\n",
      ">face is NOT a Match (0.804 > 0.500)\n",
      ">face is NOT a Match (0.823 > 0.500)\n",
      ">face is NOT a Match (0.742 > 0.500)\n",
      ">face is NOT a Match (0.830 > 0.500)\n",
      ">face is NOT a Match (0.725 > 0.500)\n",
      ">face is NOT a Match (0.697 > 0.500)\n",
      ">face is NOT a Match (0.774 > 0.500)\n",
      ">face is NOT a Match (0.727 > 0.500)\n",
      ">face is NOT a Match (0.820 > 0.500)\n",
      ">face is NOT a Match (0.761 > 0.500)\n",
      ">face is NOT a Match (0.652 > 0.500)\n",
      ">face is NOT a Match (0.800 > 0.500)\n",
      ">face is NOT a Match (0.640 > 0.500)\n",
      ">face is NOT a Match (0.794 > 0.500)\n",
      ">face is NOT a Match (0.744 > 0.500)\n",
      ">face is NOT a Match (0.811 > 0.500)\n",
      ">face is NOT a Match (0.773 > 0.500)\n",
      ">face is NOT a Match (0.691 > 0.500)\n",
      ">face is NOT a Match (0.729 > 0.500)\n",
      ">face is NOT a Match (0.629 > 0.500)\n",
      ">face is NOT a Match (0.734 > 0.500)\n",
      ">face is NOT a Match (0.865 > 0.500)\n",
      ">face is NOT a Match (0.641 > 0.500)\n",
      ">face is NOT a Match (0.832 > 0.500)\n",
      ">face is NOT a Match (0.632 > 0.500)\n",
      ">face is NOT a Match (0.750 > 0.500)\n",
      ">face is NOT a Match (0.757 > 0.500)\n",
      ">face is NOT a Match (0.807 > 0.500)\n",
      ">face is NOT a Match (0.749 > 0.500)\n",
      ">face is NOT a Match (0.763 > 0.500)\n",
      ">face is NOT a Match (0.556 > 0.500)\n",
      ">face is NOT a Match (0.739 > 0.500)\n"
     ]
    }
   ],
   "source": [
    "import random\n",
    "results_neg = []\n",
    "count = 0\n",
    "\n",
    "for person1 in BASE_PATH.iterdir():\n",
    "    random_people = list(BASE_PATH.iterdir())\n",
    "    random.shuffle(random_people)\n",
    "    i=0\n",
    "    for person2 in random_people:\n",
    "        if not person1.is_dir() or not person2.is_dir() or person1.name == person2.name or not person1.name.isalpha() or not person2.name.isalpha():\n",
    "            continue\n",
    "        count += 1\n",
    "        if count >= len(results):\n",
    "            break\n",
    "        index1 = index2 = 1\n",
    "        \n",
    "        path1 = BASE_PATH / person1.name / f'{person1.name}_{str(index1).rjust(4, \"0\")}.png'\n",
    "        path2 = BASE_PATH / person2.name / f'{person2.name}_{str(index2).rjust(4, \"0\")}.png'\n",
    "\n",
    "        try:\n",
    "            features1,features2=get_embeddings([path1, path2])\n",
    "            matched, distance = is_match(features1, features2)\n",
    "        except Exception as e:\n",
    "            print(e)\n",
    "            continue\n",
    "\n",
    "        results_neg.append([pair, matched, distance])\n",
    "        i+=1\n",
    "        if i == 2:\n",
    "            break"
   ]
  },
  {
   "cell_type": "code",
   "execution_count": 10,
   "id": "292ecad1",
   "metadata": {},
   "outputs": [],
   "source": [
    "FP=len([x for x in results_neg if x[1]]) / len(results_neg)\n",
    "TN=1-FP"
   ]
  },
  {
   "cell_type": "code",
   "execution_count": 16,
   "id": "fd915380",
   "metadata": {},
   "outputs": [
    {
     "data": {
      "text/plain": [
       "91"
      ]
     },
     "execution_count": 16,
     "metadata": {},
     "output_type": "execute_result"
    }
   ],
   "source": [
    "len(results)"
   ]
  },
  {
   "cell_type": "code",
   "execution_count": 17,
   "id": "51da7b36",
   "metadata": {},
   "outputs": [
    {
     "data": {
      "text/plain": [
       "90"
      ]
     },
     "execution_count": 17,
     "metadata": {},
     "output_type": "execute_result"
    }
   ],
   "source": [
    "len(results_neg)"
   ]
  },
  {
   "cell_type": "code",
   "execution_count": 18,
   "id": "3280b2d2",
   "metadata": {},
   "outputs": [
    {
     "data": {
      "image/png": "[encoded data removed]",
      "text/plain": [
       "<Figure size 432x288 with 2 Axes>"
      ]
     },
     "metadata": {},
     "output_type": "display_data"
    }
   ],
   "source": [
    "TP=len([x for x in results if x[1]]) / (len(results) + len(results_neg))\n",
    "FN=len([x for x in results if not x[1]]) / (len(results) + len(results_neg))\n",
    "FP=len([x for x in results_neg if x[1]]) / (len(results) + len(results_neg))\n",
    "TN=len([x for x in results_neg if not x[1]]) / (len(results) + len(results_neg))\n",
    "import seaborn as sn\n",
    "import pandas as pd\n",
    "import matplotlib.pyplot as plt\n",
    "\n",
    "array = [[TP,FN],\n",
    "         [FP,TN]]\n",
    "\n",
    "df_cm = pd.DataFrame(array, ['same', 'different'], ['verified', 'unverified'])\n",
    "# plt.figure(figsize=(10,7))\n",
    "sn.set(font_scale=1.4) # for label size\n",
    "sn.heatmap(df_cm, annot=True, annot_kws={\"size\": 16}) # font size\n",
    "\n",
    "plt.show()"
   ]
  },
  {
   "cell_type": "code",
   "execution_count": 41,
   "id": "1b3897a0",
   "metadata": {},
   "outputs": [
    {
     "data": {
      "text/plain": [
       "SVC()"
      ]
     },
     "execution_count": 41,
     "metadata": {},
     "output_type": "execute_result"
    }
   ],
   "source": [
    "from sklearn import svm\n",
    "X = [x[2] for x in results] + [x[2] for x in results_neg]\n",
    "y = [1 for x in results] + [0 for x in results_neg]\n",
    "clf = svm.SVC() #kernel=\"linear\")\n",
    "clf.fit(np.array(X).reshape(-1, 1), y)"
   ]
  },
  {
   "cell_type": "code",
   "execution_count": 42,
   "id": "a9a052ce",
   "metadata": {},
   "outputs": [],
   "source": [
    "ps=clf.predict(np.array([x[2] for x in results]).reshape(-1, 1))"
   ]
  },
  {
   "cell_type": "code",
   "execution_count": 43,
   "id": "7082502b",
   "metadata": {},
   "outputs": [
    {
     "data": {
      "text/plain": [
       "84"
      ]
     },
     "execution_count": 43,
     "metadata": {},
     "output_type": "execute_result"
    }
   ],
   "source": [
    "len([x for x in ps if x == 1])"
   ]
  },
  {
   "cell_type": "code",
   "execution_count": 44,
   "id": "1e8a2ef1",
   "metadata": {},
   "outputs": [],
   "source": [
    "ns=clf.predict(np.array([x[2] for x in results_neg]).reshape(-1, 1))"
   ]
  },
  {
   "cell_type": "code",
   "execution_count": 45,
   "id": "314f744d",
   "metadata": {},
   "outputs": [
    {
     "data": {
      "text/plain": [
       "array([0.52577713, 0.53211343, 0.56727874, 0.62083387, 0.47772884,\n",
       "       0.56106615, 0.68205959, 0.55979753, 0.38284594, 0.32652766,\n",
       "       0.43790096, 0.6852341 , 0.21677274, 0.31561142, 0.58910519,\n",
       "       0.44509125, 0.46825451, 0.44950068, 0.38989669, 0.41358531,\n",
       "       0.44444531, 0.39289641, 0.54150048, 0.42196429, 0.44786459,\n",
       "       0.5014444 , 0.46243727, 0.56206062, 0.5538184 , 0.46749425,\n",
       "       0.44382346, 0.62209469, 0.53377789, 0.55062571, 0.35890543,\n",
       "       0.49958116, 0.33034217, 0.48348933, 0.33282655, 0.4463957 ,\n",
       "       0.49409711, 0.36091995, 0.46830213, 0.49081141, 0.5035603 ,\n",
       "       0.35753793, 0.42805946, 0.55670542, 0.61986634, 0.531773  ,\n",
       "       0.5347518 , 0.72656417, 0.46619898, 0.39121962, 0.28890282,\n",
       "       0.43559325, 0.45610541, 0.4280709 , 0.46800113, 0.40254676,\n",
       "       0.51631796, 0.55060127, 0.57322532, 0.54880482, 0.46069205,\n",
       "       0.57084188, 0.51918966, 0.42171144, 0.54270539, 0.52810135,\n",
       "       0.50245449, 0.6135557 , 0.48840958, 0.43180883, 0.50315914,\n",
       "       0.5399746 , 0.30400217, 0.41870624, 0.40108049, 0.38808447,\n",
       "       0.30868697, 0.50084719, 0.3048411 , 0.25219482, 0.32997847,\n",
       "       0.35781956, 0.3986938 , 0.35128248, 0.54495543, 0.34369516,\n",
       "       0.52877614, 0.69992349, 0.69806972, 0.58944899, 0.60530338,\n",
       "       0.71080947, 0.64075497, 0.79336548, 0.87835618, 0.83664946,\n",
       "       0.78457235, 0.80458787, 0.70098567, 0.75509393, 0.78892183,\n",
       "       0.75141384, 0.64077026, 0.77699932, 0.77005954, 0.62291828,\n",
       "       0.80619195, 0.8151959 , 0.85943753, 0.59569672, 0.82136366,\n",
       "       0.77459541, 0.79861391, 0.83154914, 0.67599282, 0.81117877,\n",
       "       0.85079993, 0.75597864, 0.70622763, 0.6100387 , 0.80483772,\n",
       "       0.81501302, 0.79826212, 0.78097044, 0.82047555, 0.77413142,\n",
       "       0.73433   , 0.71321264, 0.80450742, 0.70780939, 0.72724107,\n",
       "       0.72519472, 0.74509528, 0.64748067, 0.7911043 , 0.74967775,\n",
       "       0.69871321, 0.78612527, 0.67738399, 0.75678501, 0.77858894,\n",
       "       0.64042762, 0.78813952, 0.64042383, 0.75480357, 0.80407113,\n",
       "       0.82330404, 0.74158132, 0.82955021, 0.72492287, 0.69683596,\n",
       "       0.77439046, 0.72732985, 0.81968959, 0.7608687 , 0.6519579 ,\n",
       "       0.80000858, 0.63995755, 0.79401639, 0.74418637, 0.81084596,\n",
       "       0.77261388, 0.69096786, 0.72911179, 0.62851524, 0.73442248,\n",
       "       0.86505485, 0.64121988, 0.83248256, 0.63185617, 0.75000264,\n",
       "       0.75652982, 0.80654797, 0.74916366, 0.76301958, 0.55623922,\n",
       "       0.73860675])"
      ]
     },
     "execution_count": 45,
     "metadata": {},
     "output_type": "execute_result"
    }
   ],
   "source": [
    "np.array([x[2] for x in results + results_neg])"
   ]
  },
  {
   "cell_type": "code",
   "execution_count": 46,
   "id": "6c7f9260",
   "metadata": {},
   "outputs": [
    {
     "data": {
      "text/plain": [
       "7"
      ]
     },
     "execution_count": 46,
     "metadata": {},
     "output_type": "execute_result"
    }
   ],
   "source": [
    "len([x for x in ps if x == 0])"
   ]
  },
  {
   "cell_type": "code",
   "execution_count": 47,
   "id": "143a17ac",
   "metadata": {},
   "outputs": [
    {
     "data": {
      "text/plain": [
       "91"
      ]
     },
     "execution_count": 47,
     "metadata": {},
     "output_type": "execute_result"
    }
   ],
   "source": [
    "len(ps)"
   ]
  },
  {
   "cell_type": "code",
   "execution_count": 48,
   "id": "3c533a15",
   "metadata": {},
   "outputs": [
    {
     "data": {
      "image/png": "[encoded data removed]",
      "text/plain": [
       "<Figure size 432x288 with 2 Axes>"
      ]
     },
     "metadata": {},
     "output_type": "display_data"
    }
   ],
   "source": [
    "TP=len([x for x in ps if x]) / (len(results) + len(results_neg))\n",
    "FN=len([x for x in ps if not x]) / (len(results) + len(results_neg))\n",
    "FP=len([x for x in ns if x]) / (len(results) + len(results_neg))\n",
    "TN=len([x for x in ns if not x]) / (len(results) + len(results_neg))\n",
    "import seaborn as sn\n",
    "import pandas as pd\n",
    "import matplotlib.pyplot as plt\n",
    "\n",
    "array = [[TP,FN],\n",
    "         [FP,TN]]\n",
    "\n",
    "df_cm = pd.DataFrame(array, ['same', 'different'], ['verified', 'unverified'])\n",
    "# plt.figure(figsize=(10,7))\n",
    "sn.set(font_scale=1.4) # for label size\n",
    "sn.heatmap(df_cm, annot=True, annot_kws={\"size\": 16}) # font size\n",
    "\n",
    "plt.show()"
   ]
  },
  {
   "cell_type": "code",
   "execution_count": 36,
   "id": "9523ea1c",
   "metadata": {},
   "outputs": [
    {
     "data": {
      "text/plain": [
       "0.46408839779005523"
      ]
     },
     "execution_count": 36,
     "metadata": {},
     "output_type": "execute_result"
    }
   ],
   "source": [
    "TP"
   ]
  },
  {
   "cell_type": "code",
   "execution_count": 37,
   "id": "e6c23ae4",
   "metadata": {},
   "outputs": [
    {
     "data": {
      "text/plain": [
       "0.03867403314917127"
      ]
     },
     "execution_count": 37,
     "metadata": {},
     "output_type": "execute_result"
    }
   ],
   "source": [
    "FN"
   ]
  },
  {
   "cell_type": "code",
   "execution_count": 38,
   "id": "38a5256f",
   "metadata": {},
   "outputs": [
    {
     "data": {
      "text/plain": [
       "0.027624309392265192"
      ]
     },
     "execution_count": 38,
     "metadata": {},
     "output_type": "execute_result"
    }
   ],
   "source": [
    "FP"
   ]
  },
  {
   "cell_type": "code",
   "execution_count": 39,
   "id": "2f5ab3ba",
   "metadata": {},
   "outputs": [
    {
     "data": {
      "text/plain": [
       "181"
      ]
     },
     "execution_count": 39,
     "metadata": {},
     "output_type": "execute_result"
    }
   ],
   "source": [
    "len(results) + len(results_neg)"
   ]
  },
  {
   "cell_type": "code",
   "execution_count": 58,
   "id": "0e29c734",
   "metadata": {},
   "outputs": [
    {
     "data": {
      "text/plain": [
       "[(0.59, array([1])),\n",
       " (0.591, array([1])),\n",
       " (0.592, array([1])),\n",
       " (0.593, array([1])),\n",
       " (0.594, array([1])),\n",
       " (0.595, array([1])),\n",
       " (0.596, array([1])),\n",
       " (0.597, array([1])),\n",
       " (0.598, array([0])),\n",
       " (0.599, array([0]))]"
      ]
     },
     "execution_count": 58,
     "metadata": {},
     "output_type": "execute_result"
    }
   ],
   "source": [
    "[(0.59+x/1000,clf.predict(np.array(0.59+x/1000).reshape(-1, 1))) for x in range(10)]"
   ]
  },
  {
   "cell_type": "code",
   "execution_count": null,
   "id": "309d6b64",
   "metadata": {},
   "outputs": [],
   "source": []
  }
 ],
 "metadata": {
  "kernelspec": {
   "display_name": "Python 3 (ipykernel)",
   "language": "python",
   "name": "python3"
  },
  "language_info": {
   "codemirror_mode": {
    "name": "ipython",
    "version": 3
   },
   "file_extension": ".py",
   "mimetype": "text/x-python",
   "name": "python",
   "nbconvert_exporter": "python",
   "pygments_lexer": "ipython3",
   "version": "3.9.7"
  }
 },
 "nbformat": 4,
 "nbformat_minor": 5
}
